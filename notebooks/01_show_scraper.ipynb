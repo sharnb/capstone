{
 "cells": [
  {
   "cell_type": "markdown",
   "metadata": {},
   "source": [
    "# Show Scraper\n",
    "> Author: Sharnique Beck\n",
    "\n",
    "In this notebook I perform my two main scrapes to collect show titles and user ratings"
   ]
  },
  {
   "cell_type": "code",
   "execution_count": 57,
   "metadata": {},
   "outputs": [],
   "source": [
    "# Import libaries\n",
    "import pandas as pd\n",
    "import requests\n",
    "import time\n",
    "import re\n",
    "\n",
    "from bs4 import BeautifulSoup\n",
    "\n",
    "headers = {'User-agent': 'SB 2.0'}"
   ]
  },
  {
   "cell_type": "markdown",
   "metadata": {},
   "source": [
    "## Scrape the Viki.com korean pages\n",
    "\n",
    "Note: Collect Titles and show URLs"
   ]
  },
  {
   "cell_type": "code",
   "execution_count": null,
   "metadata": {},
   "outputs": [],
   "source": [
    "shows = []\n",
    "\n",
    "for pg_num in range(1,36):\n",
    "    KD_pg_url = 'https://www.viki.com/explore?country=korea&page=%s' %pg_num\n",
    "    res = requests.get(KD_pg_url, headers=headers)\n",
    "    soup = BeautifulSoup(res.content, 'lxml')\n",
    "\n",
    "    s_page = soup.find_all('a', {'class':'thumb-title strong'})\n",
    "    for item in s_page:\n",
    "        show = {}\n",
    "        show['title'] = item.text.strip()\n",
    "        show['url'] = 'https://www.viki.com'+ item.attrs['href']\n",
    "        shows.append(show)\n",
    "\n",
    "    time.sleep(1)\n",
    "k_titles = pd.DataFrame(shows)"
   ]
  },
  {
   "cell_type": "code",
   "execution_count": null,
   "metadata": {},
   "outputs": [],
   "source": [
    "# pull out container ids\n",
    "k_titles['container']= k_titles['url'].map(lambda x: re.findall('[tv]\\/(.+?)\\-', x)[0])"
   ]
  },
  {
   "cell_type": "code",
   "execution_count": null,
   "metadata": {},
   "outputs": [],
   "source": [
    "# Add show rating and # ratings\n",
    "k_titles['rating'] = ''\n",
    "k_titles['# ratings']= ''"
   ]
  },
  {
   "cell_type": "code",
   "execution_count": null,
   "metadata": {},
   "outputs": [],
   "source": [
    "k_titles.tail()"
   ]
  },
  {
   "cell_type": "markdown",
   "metadata": {},
   "source": [
    "## Clean Data "
   ]
  },
  {
   "cell_type": "code",
   "execution_count": null,
   "metadata": {
    "scrolled": true
   },
   "outputs": [],
   "source": [
    "# Drop the shows that are not tv-series\n",
    "k_titles = k_titles[~k_titles.url.str.contains(\"movies\")]\n",
    "k_titles = k_titles[~k_titles.url.str.contains(\"creators\")]\n",
    "k_titles.reset_index(drop=True, inplace=True)"
   ]
  },
  {
   "cell_type": "code",
   "execution_count": null,
   "metadata": {},
   "outputs": [],
   "source": [
    "# Find show ratings and # of ratings\n",
    "for row in range(len(k_titles['container'])):\n",
    "    url='https://api.viki.io/v4/containers/%s.json?app=100000a' %k_titles['container'][row]\n",
    "    res = requests.get(url, headers= headers)\n",
    "    json_pg = res.json()\n",
    "    \n",
    "    k_titles.loc[row,'rating']= json_pg['review_stats']['average_rating']\n",
    "    k_titles.loc[row,'# ratings']= json_pg['review_stats']['count']\n",
    "    k_titles.loc[row,'genre']= json_pg['genres']\n",
    "    k_titles.loc[row,'s_rating']= json['ratings']\n",
    "    k_titles.loc[row,'# episodes']= json['episodes']\n",
    "    k_titles.loc[row,'network']= json['distributors']['name']\n",
    "    k_titles.loc[row,'# episodes']= json['episodes']\n",
    "    time.sleep(1)"
   ]
  },
  {
   "cell_type": "code",
   "execution_count": null,
   "metadata": {},
   "outputs": [],
   "source": [
    "k_titles.tail()"
   ]
  },
  {
   "cell_type": "code",
   "execution_count": null,
   "metadata": {},
   "outputs": [],
   "source": [
    "k_titles.to_csv('./data/k_titles.csv', index=False)"
   ]
  },
  {
   "cell_type": "markdown",
   "metadata": {},
   "source": [
    "## Scrape show pages for user ratings"
   ]
  },
  {
   "cell_type": "code",
   "execution_count": 3,
   "metadata": {},
   "outputs": [],
   "source": [
    "k_titles = pd.read_csv('./data/k_titles.csv')"
   ]
  },
  {
   "cell_type": "code",
   "execution_count": 4,
   "metadata": {},
   "outputs": [
    {
     "data": {
      "text/html": [
       "<div>\n",
       "<style scoped>\n",
       "    .dataframe tbody tr th:only-of-type {\n",
       "        vertical-align: middle;\n",
       "    }\n",
       "\n",
       "    .dataframe tbody tr th {\n",
       "        vertical-align: top;\n",
       "    }\n",
       "\n",
       "    .dataframe thead th {\n",
       "        text-align: right;\n",
       "    }\n",
       "</style>\n",
       "<table border=\"1\" class=\"dataframe\">\n",
       "  <thead>\n",
       "    <tr style=\"text-align: right;\">\n",
       "      <th></th>\n",
       "      <th>title</th>\n",
       "      <th>url</th>\n",
       "      <th>container</th>\n",
       "      <th>rating</th>\n",
       "      <th># ratings</th>\n",
       "    </tr>\n",
       "  </thead>\n",
       "  <tbody>\n",
       "    <tr>\n",
       "      <th>0</th>\n",
       "      <td>Thirty But Seventeen</td>\n",
       "      <td>https://www.viki.com/tv/36109c-thirty-but-seve...</td>\n",
       "      <td>36109c</td>\n",
       "      <td>9.58</td>\n",
       "      <td>7368</td>\n",
       "    </tr>\n",
       "    <tr>\n",
       "      <th>1</th>\n",
       "      <td>Fates and Furies</td>\n",
       "      <td>https://www.viki.com/tv/36240c-fates-and-furies</td>\n",
       "      <td>36240c</td>\n",
       "      <td>9.14</td>\n",
       "      <td>1401</td>\n",
       "    </tr>\n",
       "    <tr>\n",
       "      <th>2</th>\n",
       "      <td>The Last Empress</td>\n",
       "      <td>https://www.viki.com/tv/36241c-the-last-empress</td>\n",
       "      <td>36241c</td>\n",
       "      <td>9.45</td>\n",
       "      <td>3858</td>\n",
       "    </tr>\n",
       "    <tr>\n",
       "      <th>3</th>\n",
       "      <td>Encounter</td>\n",
       "      <td>https://www.viki.com/tv/36239c-encounter</td>\n",
       "      <td>36239c</td>\n",
       "      <td>9.59</td>\n",
       "      <td>5436</td>\n",
       "    </tr>\n",
       "    <tr>\n",
       "      <th>4</th>\n",
       "      <td>My Strange Hero</td>\n",
       "      <td>https://www.viki.com/tv/36330c-my-strange-hero</td>\n",
       "      <td>36330c</td>\n",
       "      <td>9.56</td>\n",
       "      <td>2239</td>\n",
       "    </tr>\n",
       "  </tbody>\n",
       "</table>\n",
       "</div>"
      ],
      "text/plain": [
       "                  title                                                url  \\\n",
       "0  Thirty But Seventeen  https://www.viki.com/tv/36109c-thirty-but-seve...   \n",
       "1      Fates and Furies    https://www.viki.com/tv/36240c-fates-and-furies   \n",
       "2      The Last Empress    https://www.viki.com/tv/36241c-the-last-empress   \n",
       "3             Encounter           https://www.viki.com/tv/36239c-encounter   \n",
       "4       My Strange Hero     https://www.viki.com/tv/36330c-my-strange-hero   \n",
       "\n",
       "  container  rating  # ratings  \n",
       "0    36109c    9.58       7368  \n",
       "1    36240c    9.14       1401  \n",
       "2    36241c    9.45       3858  \n",
       "3    36239c    9.59       5436  \n",
       "4    36330c    9.56       2239  "
      ]
     },
     "execution_count": 4,
     "metadata": {},
     "output_type": "execute_result"
    }
   ],
   "source": [
    "k_titles.head()"
   ]
  },
  {
   "cell_type": "markdown",
   "metadata": {},
   "source": [
    "### Access to viki api"
   ]
  },
  {
   "cell_type": "code",
   "execution_count": null,
   "metadata": {},
   "outputs": [],
   "source": [
    "ratings = []\n",
    "shows_comp= 0 # count of the number of shows completed\n",
    "\n",
    "# Loop through each show\n",
    "for s_row in range(len(k_titles['container'])):\n",
    "\n",
    "    pg_nums =1\n",
    "    \n",
    "    # Loop through each review page \n",
    "    while True:\n",
    "        url1='https://api.viki.io/v4/containers/%s/reviews.json?sort=review_rank&direction=desc&per_page=10&page=%s&app=100000a' %(k_titles['container'][s_row], pg_nums)\n",
    "        res = requests.get(url1, headers= headers)\n",
    "        json_pg = res.json()\n",
    "        \n",
    "        next_pg = json_pg['more']    # indicates if there is another page of reviews\n",
    "        \n",
    "        # Break loop if show has no reviews\n",
    "        if json_pg['response'] == []:\n",
    "            print(\"%s has no reviews\" %(k_titles['title'][s_row]))\n",
    "            shows_comp+=1\n",
    "            break\n",
    "        \n",
    "        # Loop through each user review on review pg\n",
    "        for row in json_pg['response']:\n",
    "            rating = {}\n",
    "            rating['title'] = k_titles['title'][s_row]\n",
    "            rating['user'] = row['user']['username']\n",
    "            rating['rating'] = row['user_content_rating']\n",
    "            ratings.append(rating)\n",
    "            \n",
    "        pg_nums += 1\n",
    "        \n",
    "        time.sleep(1)\n",
    "        \n",
    "        # Break loop after last page of reviews\n",
    "        if next_pg != True and json_pg['response'] == []:\n",
    "            shows_comp+=1\n",
    "            break\n",
    "    \n",
    "    time.sleep(2)\n",
    "    \n",
    "    # save data to csv after every 10 shows\n",
    "    if shows_comp % 10 == 0:\n",
    "        show_rates = pd.DataFrame(ratings)\n",
    "        show_rates.to_csv('./data/ratings.csv', index=False)\n",
    "\n",
    "# save entire data set to csv after scraping all shows is complete\n",
    "show_rates = pd.DataFrame(ratings)\n",
    "show_rates.to_csv('./data/k_ratings_total.csv', index=False)"
   ]
  },
  {
   "cell_type": "code",
   "execution_count": null,
   "metadata": {},
   "outputs": [],
   "source": [
    "show_rates = pd.DataFrame(ratings)\n",
    "print(show_rates.shape[0])\n",
    "print(show_rates['user'].nunique())"
   ]
  },
  {
   "cell_type": "code",
   "execution_count": null,
   "metadata": {},
   "outputs": [],
   "source": [
    "show_rates.tail()"
   ]
  },
  {
   "cell_type": "code",
   "execution_count": null,
   "metadata": {},
   "outputs": [],
   "source": [
    "show_rates.to_csv('./data/k_ratings_total.csv', index=False)"
   ]
  }
 ],
 "metadata": {
  "kernelspec": {
   "display_name": "Python 3",
   "language": "python",
   "name": "python3"
  },
  "language_info": {
   "codemirror_mode": {
    "name": "ipython",
    "version": 3
   },
   "file_extension": ".py",
   "mimetype": "text/x-python",
   "name": "python",
   "nbconvert_exporter": "python",
   "pygments_lexer": "ipython3",
   "version": "3.6.6"
  }
 },
 "nbformat": 4,
 "nbformat_minor": 2
}
