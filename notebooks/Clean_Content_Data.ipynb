{
 "cells": [
  {
   "cell_type": "markdown",
   "metadata": {},
   "source": [
    "# Data Set Cleaning\n",
    "> Author: Sharnique Beck\n",
    "\n",
    "This notebook is used to clean scraped data for vectorizing"
   ]
  },
  {
   "cell_type": "code",
   "execution_count": 1,
   "metadata": {},
   "outputs": [],
   "source": [
    "# Import libaries\n",
    "import pandas as pd\n",
    "import numpy as np\n",
    "import re\n",
    "import pickle\n"
   ]
  },
  {
   "cell_type": "code",
   "execution_count": 2,
   "metadata": {},
   "outputs": [
    {
     "data": {
      "text/html": [
       "<div>\n",
       "<style scoped>\n",
       "    .dataframe tbody tr th:only-of-type {\n",
       "        vertical-align: middle;\n",
       "    }\n",
       "\n",
       "    .dataframe tbody tr th {\n",
       "        vertical-align: top;\n",
       "    }\n",
       "\n",
       "    .dataframe thead th {\n",
       "        text-align: right;\n",
       "    }\n",
       "</style>\n",
       "<table border=\"1\" class=\"dataframe\">\n",
       "  <thead>\n",
       "    <tr style=\"text-align: right;\">\n",
       "      <th></th>\n",
       "      <th># episodes</th>\n",
       "      <th>genre</th>\n",
       "      <th>network</th>\n",
       "      <th>rating</th>\n",
       "      <th>s_rating</th>\n",
       "      <th>title</th>\n",
       "      <th>cast</th>\n",
       "      <th>director</th>\n",
       "      <th>screenwriter</th>\n",
       "    </tr>\n",
       "  </thead>\n",
       "  <tbody>\n",
       "    <tr>\n",
       "      <th>0</th>\n",
       "      <td>32</td>\n",
       "      <td>['23g', '9g', '18g', '6g', '7g']</td>\n",
       "      <td>SBS</td>\n",
       "      <td>9.58</td>\n",
       "      <td>PG-13</td>\n",
       "      <td>Thirty But Seventeen</td>\n",
       "      <td>['Shin Hye Sun', 'Yang Se Jong', 'Ahn Hyo Seop...</td>\n",
       "      <td>Jo Soo-Won</td>\n",
       "      <td>Jo Sung-Hee</td>\n",
       "    </tr>\n",
       "    <tr>\n",
       "      <th>1</th>\n",
       "      <td>36</td>\n",
       "      <td>['18g', '1041g', '23g']</td>\n",
       "      <td>SBS</td>\n",
       "      <td>8.73</td>\n",
       "      <td>PG-13</td>\n",
       "      <td>Fates and Furies</td>\n",
       "      <td>['Joo Sang Wook', 'Lee Min Jung', 'Lee Ki Woo'...</td>\n",
       "      <td>Jung Dong-Yoon</td>\n",
       "      <td>Kang Cheol-Woong</td>\n",
       "    </tr>\n",
       "    <tr>\n",
       "      <th>2</th>\n",
       "      <td>42</td>\n",
       "      <td>['23g', '9g', '18g']</td>\n",
       "      <td>SBS</td>\n",
       "      <td>9.45</td>\n",
       "      <td>PG-13</td>\n",
       "      <td>The Last Empress</td>\n",
       "      <td>['Shin Sung Rok', 'Jang Nara', 'Choi Jin Hyuk'...</td>\n",
       "      <td>Joo Dong-Min</td>\n",
       "      <td>Kim Sun-Ok</td>\n",
       "    </tr>\n",
       "    <tr>\n",
       "      <th>3</th>\n",
       "      <td>16</td>\n",
       "      <td>['18g', '23g']</td>\n",
       "      <td>tvN</td>\n",
       "      <td>9.56</td>\n",
       "      <td>PG-13</td>\n",
       "      <td>Encounter</td>\n",
       "      <td>['Park Bo Gum', 'Song Hye Kyo', 'Jang Seung Jo...</td>\n",
       "      <td>Park Shin-Woo</td>\n",
       "      <td>Yoo Young-A</td>\n",
       "    </tr>\n",
       "    <tr>\n",
       "      <th>4</th>\n",
       "      <td>32</td>\n",
       "      <td>['18g', '1041g', '9g', '23g']</td>\n",
       "      <td>SBS</td>\n",
       "      <td>9.55</td>\n",
       "      <td>PG-13</td>\n",
       "      <td>My Strange Hero</td>\n",
       "      <td>['Yoo Seung Ho', 'Jo Bo Ah', 'Kwak Dong Yeon',...</td>\n",
       "      <td>Ham Joon-Ho</td>\n",
       "      <td>Kim Yoon-Young</td>\n",
       "    </tr>\n",
       "  </tbody>\n",
       "</table>\n",
       "</div>"
      ],
      "text/plain": [
       "   # episodes                             genre network  rating s_rating  \\\n",
       "0          32  ['23g', '9g', '18g', '6g', '7g']     SBS    9.58    PG-13   \n",
       "1          36           ['18g', '1041g', '23g']     SBS    8.73    PG-13   \n",
       "2          42              ['23g', '9g', '18g']     SBS    9.45    PG-13   \n",
       "3          16                    ['18g', '23g']     tvN    9.56    PG-13   \n",
       "4          32     ['18g', '1041g', '9g', '23g']     SBS    9.55    PG-13   \n",
       "\n",
       "                  title                                               cast  \\\n",
       "0  Thirty But Seventeen  ['Shin Hye Sun', 'Yang Se Jong', 'Ahn Hyo Seop...   \n",
       "1      Fates and Furies  ['Joo Sang Wook', 'Lee Min Jung', 'Lee Ki Woo'...   \n",
       "2      The Last Empress  ['Shin Sung Rok', 'Jang Nara', 'Choi Jin Hyuk'...   \n",
       "3             Encounter  ['Park Bo Gum', 'Song Hye Kyo', 'Jang Seung Jo...   \n",
       "4       My Strange Hero  ['Yoo Seung Ho', 'Jo Bo Ah', 'Kwak Dong Yeon',...   \n",
       "\n",
       "         director      screenwriter  \n",
       "0      Jo Soo-Won       Jo Sung-Hee  \n",
       "1  Jung Dong-Yoon  Kang Cheol-Woong  \n",
       "2    Joo Dong-Min        Kim Sun-Ok  \n",
       "3   Park Shin-Woo       Yoo Young-A  \n",
       "4     Ham Joon-Ho    Kim Yoon-Young  "
      ]
     },
     "execution_count": 2,
     "metadata": {},
     "output_type": "execute_result"
    }
   ],
   "source": [
    "data = pd.read_csv('../data/show_info.csv')\n",
    "data.head()"
   ]
  },
  {
   "cell_type": "code",
   "execution_count": 29,
   "metadata": {},
   "outputs": [
    {
     "name": "stdout",
     "output_type": "stream",
     "text": [
      "<class 'pandas.core.frame.DataFrame'>\n",
      "RangeIndex: 624 entries, 0 to 623\n",
      "Data columns (total 9 columns):\n",
      "# episodes      624 non-null int64\n",
      "genre           624 non-null object\n",
      "network         624 non-null object\n",
      "rating          624 non-null float64\n",
      "s_rating        624 non-null object\n",
      "title           624 non-null object\n",
      "cast            624 non-null object\n",
      "director        624 non-null object\n",
      "screenwriter    624 non-null object\n",
      "dtypes: float64(1), int64(1), object(7)\n",
      "memory usage: 44.0+ KB\n"
     ]
    }
   ],
   "source": [
    "data.info()"
   ]
  },
  {
   "cell_type": "markdown",
   "metadata": {},
   "source": [
    "## Clean Network info"
   ]
  },
  {
   "cell_type": "code",
   "execution_count": 4,
   "metadata": {},
   "outputs": [],
   "source": [
    "data.loc[256,'network'] = 'MBC'\n",
    "data.loc[272,'network'] = 'MBC'\n",
    "data.loc[290,'network'] = 'KBS'\n",
    "data.loc[300,'network'] = 'SBS'\n",
    "data.loc[438,'network'] = 'MBC'\n",
    "data.loc[520,'network'] = 'MBC'\n",
    "data.loc[579,'network'] = 'MBC'"
   ]
  },
  {
   "cell_type": "code",
   "execution_count": 27,
   "metadata": {},
   "outputs": [],
   "source": [
    "data['network'] = data['network'].map(lambda x: x.title().replace(' ','').replace(',',' ') if type(x)== str else ' ')"
   ]
  },
  {
   "cell_type": "code",
   "execution_count": 24,
   "metadata": {},
   "outputs": [
    {
     "data": {
      "text/plain": [
       "0"
      ]
     },
     "execution_count": 24,
     "metadata": {},
     "output_type": "execute_result"
    }
   ],
   "source": [
    "data['network'].isnull().sum()"
   ]
  },
  {
   "cell_type": "code",
   "execution_count": 7,
   "metadata": {},
   "outputs": [
    {
     "data": {
      "text/html": [
       "<div>\n",
       "<style scoped>\n",
       "    .dataframe tbody tr th:only-of-type {\n",
       "        vertical-align: middle;\n",
       "    }\n",
       "\n",
       "    .dataframe tbody tr th {\n",
       "        vertical-align: top;\n",
       "    }\n",
       "\n",
       "    .dataframe thead th {\n",
       "        text-align: right;\n",
       "    }\n",
       "</style>\n",
       "<table border=\"1\" class=\"dataframe\">\n",
       "  <thead>\n",
       "    <tr style=\"text-align: right;\">\n",
       "      <th></th>\n",
       "      <th># episodes</th>\n",
       "      <th>genre</th>\n",
       "      <th>network</th>\n",
       "      <th>rating</th>\n",
       "      <th>s_rating</th>\n",
       "      <th>title</th>\n",
       "      <th>cast</th>\n",
       "      <th>director</th>\n",
       "      <th>screenwriter</th>\n",
       "    </tr>\n",
       "  </thead>\n",
       "  <tbody>\n",
       "  </tbody>\n",
       "</table>\n",
       "</div>"
      ],
      "text/plain": [
       "Empty DataFrame\n",
       "Columns: [# episodes, genre, network, rating, s_rating, title, cast, director, screenwriter]\n",
       "Index: []"
      ]
     },
     "execution_count": 7,
     "metadata": {},
     "output_type": "execute_result"
    }
   ],
   "source": [
    "data[data['network'] =='kbs ']"
   ]
  },
  {
   "cell_type": "code",
   "execution_count": 8,
   "metadata": {},
   "outputs": [
    {
     "data": {
      "text/plain": [
       "Mbc                         224\n",
       "Sbs                         125\n",
       "Kbs                         114\n",
       "Tvn                          44\n",
       "Ocn                          10\n",
       "Kbs2                          9\n",
       "NaverTv                       9\n",
       "Jtbc                          9\n",
       "ChannelA                      8\n",
       "ArirangTv                     6\n",
       "SbsPlus                       6\n",
       "EChannel                      4\n",
       "Mbn Dramax                    3\n",
       "Mbn                           3\n",
       "Mnet                          3\n",
       "SbsMtv                        2\n",
       "Oksusu                        2\n",
       "MbcMusic                      2\n",
       "SohuTv                        2\n",
       "NaverTvCast ConversionTv      1\n",
       "KbsW                          1\n",
       "Onstyle                       1\n",
       "TvChosun                      1\n",
       "Tcast                         1\n",
       "O'Live                        1\n",
       "Qtv                           1\n",
       "Xtvn                          1\n",
       "Dramax Umax                   1\n",
       "OnStyle                       1\n",
       "Name: network, dtype: int64"
      ]
     },
     "execution_count": 8,
     "metadata": {},
     "output_type": "execute_result"
    }
   ],
   "source": [
    "data['network'].value_counts()"
   ]
  },
  {
   "cell_type": "markdown",
   "metadata": {},
   "source": [
    "## Genre Formatting"
   ]
  },
  {
   "cell_type": "code",
   "execution_count": 9,
   "metadata": {},
   "outputs": [],
   "source": [
    "genres = pickle.load( open( \"../data/genres.p\", \"rb\" ) )"
   ]
  },
  {
   "cell_type": "code",
   "execution_count": 10,
   "metadata": {},
   "outputs": [],
   "source": [
    "# Turn genre string into list\n",
    "data['genre'] = data['genre'].map(lambda x: x[1:-1].replace(\"'\",\"\").split(', '))"
   ]
  },
  {
   "cell_type": "code",
   "execution_count": 11,
   "metadata": {},
   "outputs": [],
   "source": [
    "# Pull genre titles and format\n",
    "data['genre'] = data['genre'].map(lambda x: [genres.get(k)['name'] for k in x] if x != [''] else x)\n",
    "data['genre'] = data['genre'].map(lambda x: [name.title().replace(' ','').replace(',',' ') for name in x])\n",
    "data['genre'] = data['genre'].map(lambda x: ' '.join(x))"
   ]
  },
  {
   "cell_type": "code",
   "execution_count": 12,
   "metadata": {},
   "outputs": [
    {
     "data": {
      "text/html": [
       "<div>\n",
       "<style scoped>\n",
       "    .dataframe tbody tr th:only-of-type {\n",
       "        vertical-align: middle;\n",
       "    }\n",
       "\n",
       "    .dataframe tbody tr th {\n",
       "        vertical-align: top;\n",
       "    }\n",
       "\n",
       "    .dataframe thead th {\n",
       "        text-align: right;\n",
       "    }\n",
       "</style>\n",
       "<table border=\"1\" class=\"dataframe\">\n",
       "  <thead>\n",
       "    <tr style=\"text-align: right;\">\n",
       "      <th></th>\n",
       "      <th># episodes</th>\n",
       "      <th>genre</th>\n",
       "      <th>network</th>\n",
       "      <th>rating</th>\n",
       "      <th>s_rating</th>\n",
       "      <th>title</th>\n",
       "      <th>cast</th>\n",
       "      <th>director</th>\n",
       "      <th>screenwriter</th>\n",
       "    </tr>\n",
       "  </thead>\n",
       "  <tbody>\n",
       "    <tr>\n",
       "      <th>0</th>\n",
       "      <td>32</td>\n",
       "      <td>KoreanDrama Drama Romance Comedy Crime&amp;Mystery</td>\n",
       "      <td>Sbs</td>\n",
       "      <td>9.58</td>\n",
       "      <td>PG-13</td>\n",
       "      <td>Thirty But Seventeen</td>\n",
       "      <td>['Shin Hye Sun', 'Yang Se Jong', 'Ahn Hyo Seop...</td>\n",
       "      <td>Jo Soo-Won</td>\n",
       "      <td>Jo Sung-Hee</td>\n",
       "    </tr>\n",
       "    <tr>\n",
       "      <th>1</th>\n",
       "      <td>36</td>\n",
       "      <td>Romance Melodrama KoreanDrama</td>\n",
       "      <td>Sbs</td>\n",
       "      <td>8.73</td>\n",
       "      <td>PG-13</td>\n",
       "      <td>Fates and Furies</td>\n",
       "      <td>['Joo Sang Wook', 'Lee Min Jung', 'Lee Ki Woo'...</td>\n",
       "      <td>Jung Dong-Yoon</td>\n",
       "      <td>Kang Cheol-Woong</td>\n",
       "    </tr>\n",
       "    <tr>\n",
       "      <th>2</th>\n",
       "      <td>42</td>\n",
       "      <td>KoreanDrama Drama Romance</td>\n",
       "      <td>Sbs</td>\n",
       "      <td>9.45</td>\n",
       "      <td>PG-13</td>\n",
       "      <td>The Last Empress</td>\n",
       "      <td>['Shin Sung Rok', 'Jang Nara', 'Choi Jin Hyuk'...</td>\n",
       "      <td>Joo Dong-Min</td>\n",
       "      <td>Kim Sun-Ok</td>\n",
       "    </tr>\n",
       "    <tr>\n",
       "      <th>3</th>\n",
       "      <td>16</td>\n",
       "      <td>Romance KoreanDrama</td>\n",
       "      <td>Tvn</td>\n",
       "      <td>9.56</td>\n",
       "      <td>PG-13</td>\n",
       "      <td>Encounter</td>\n",
       "      <td>['Park Bo Gum', 'Song Hye Kyo', 'Jang Seung Jo...</td>\n",
       "      <td>Park Shin-Woo</td>\n",
       "      <td>Yoo Young-A</td>\n",
       "    </tr>\n",
       "    <tr>\n",
       "      <th>4</th>\n",
       "      <td>32</td>\n",
       "      <td>Romance Melodrama Drama KoreanDrama</td>\n",
       "      <td>Sbs</td>\n",
       "      <td>9.55</td>\n",
       "      <td>PG-13</td>\n",
       "      <td>My Strange Hero</td>\n",
       "      <td>['Yoo Seung Ho', 'Jo Bo Ah', 'Kwak Dong Yeon',...</td>\n",
       "      <td>Ham Joon-Ho</td>\n",
       "      <td>Kim Yoon-Young</td>\n",
       "    </tr>\n",
       "  </tbody>\n",
       "</table>\n",
       "</div>"
      ],
      "text/plain": [
       "   # episodes                                           genre network  rating  \\\n",
       "0          32  KoreanDrama Drama Romance Comedy Crime&Mystery     Sbs    9.58   \n",
       "1          36                   Romance Melodrama KoreanDrama     Sbs    8.73   \n",
       "2          42                       KoreanDrama Drama Romance     Sbs    9.45   \n",
       "3          16                             Romance KoreanDrama     Tvn    9.56   \n",
       "4          32             Romance Melodrama Drama KoreanDrama     Sbs    9.55   \n",
       "\n",
       "  s_rating                 title  \\\n",
       "0    PG-13  Thirty But Seventeen   \n",
       "1    PG-13      Fates and Furies   \n",
       "2    PG-13      The Last Empress   \n",
       "3    PG-13             Encounter   \n",
       "4    PG-13       My Strange Hero   \n",
       "\n",
       "                                                cast        director  \\\n",
       "0  ['Shin Hye Sun', 'Yang Se Jong', 'Ahn Hyo Seop...      Jo Soo-Won   \n",
       "1  ['Joo Sang Wook', 'Lee Min Jung', 'Lee Ki Woo'...  Jung Dong-Yoon   \n",
       "2  ['Shin Sung Rok', 'Jang Nara', 'Choi Jin Hyuk'...    Joo Dong-Min   \n",
       "3  ['Park Bo Gum', 'Song Hye Kyo', 'Jang Seung Jo...   Park Shin-Woo   \n",
       "4  ['Yoo Seung Ho', 'Jo Bo Ah', 'Kwak Dong Yeon',...     Ham Joon-Ho   \n",
       "\n",
       "       screenwriter  \n",
       "0       Jo Sung-Hee  \n",
       "1  Kang Cheol-Woong  \n",
       "2        Kim Sun-Ok  \n",
       "3       Yoo Young-A  \n",
       "4    Kim Yoon-Young  "
      ]
     },
     "execution_count": 12,
     "metadata": {},
     "output_type": "execute_result"
    }
   ],
   "source": [
    "data.head()"
   ]
  },
  {
   "cell_type": "markdown",
   "metadata": {},
   "source": [
    "## Format Cast names"
   ]
  },
  {
   "cell_type": "code",
   "execution_count": 13,
   "metadata": {},
   "outputs": [],
   "source": [
    "data['cast'] = data['cast'].map(lambda x: [name.replace(' ','') for name in x[1:-1].replace(\"'\",\"\").split(', ')])\n",
    "data['cast'] = data['cast'].map(lambda x: ' '.join(x))"
   ]
  },
  {
   "cell_type": "code",
   "execution_count": 14,
   "metadata": {},
   "outputs": [
    {
     "data": {
      "text/html": [
       "<div>\n",
       "<style scoped>\n",
       "    .dataframe tbody tr th:only-of-type {\n",
       "        vertical-align: middle;\n",
       "    }\n",
       "\n",
       "    .dataframe tbody tr th {\n",
       "        vertical-align: top;\n",
       "    }\n",
       "\n",
       "    .dataframe thead th {\n",
       "        text-align: right;\n",
       "    }\n",
       "</style>\n",
       "<table border=\"1\" class=\"dataframe\">\n",
       "  <thead>\n",
       "    <tr style=\"text-align: right;\">\n",
       "      <th></th>\n",
       "      <th># episodes</th>\n",
       "      <th>genre</th>\n",
       "      <th>network</th>\n",
       "      <th>rating</th>\n",
       "      <th>s_rating</th>\n",
       "      <th>title</th>\n",
       "      <th>cast</th>\n",
       "      <th>director</th>\n",
       "      <th>screenwriter</th>\n",
       "    </tr>\n",
       "  </thead>\n",
       "  <tbody>\n",
       "    <tr>\n",
       "      <th>0</th>\n",
       "      <td>32</td>\n",
       "      <td>KoreanDrama Drama Romance Comedy Crime&amp;Mystery</td>\n",
       "      <td>Sbs</td>\n",
       "      <td>9.58</td>\n",
       "      <td>PG-13</td>\n",
       "      <td>Thirty But Seventeen</td>\n",
       "      <td>ShinHyeSun YangSeJong AhnHyoSeop YeJiWon JungY...</td>\n",
       "      <td>Jo Soo-Won</td>\n",
       "      <td>Jo Sung-Hee</td>\n",
       "    </tr>\n",
       "    <tr>\n",
       "      <th>1</th>\n",
       "      <td>36</td>\n",
       "      <td>Romance Melodrama KoreanDrama</td>\n",
       "      <td>Sbs</td>\n",
       "      <td>8.73</td>\n",
       "      <td>PG-13</td>\n",
       "      <td>Fates and Furies</td>\n",
       "      <td>JooSangWook LeeMinJung LeeKiWoo SoYiHyun ParkS...</td>\n",
       "      <td>Jung Dong-Yoon</td>\n",
       "      <td>Kang Cheol-Woong</td>\n",
       "    </tr>\n",
       "    <tr>\n",
       "      <th>2</th>\n",
       "      <td>42</td>\n",
       "      <td>KoreanDrama Drama Romance</td>\n",
       "      <td>Sbs</td>\n",
       "      <td>9.45</td>\n",
       "      <td>PG-13</td>\n",
       "      <td>The Last Empress</td>\n",
       "      <td>ShinSungRok JangNara ChoiJinHyuk ShinEunKyung ...</td>\n",
       "      <td>Joo Dong-Min</td>\n",
       "      <td>Kim Sun-Ok</td>\n",
       "    </tr>\n",
       "    <tr>\n",
       "      <th>3</th>\n",
       "      <td>16</td>\n",
       "      <td>Romance KoreanDrama</td>\n",
       "      <td>Tvn</td>\n",
       "      <td>9.56</td>\n",
       "      <td>PG-13</td>\n",
       "      <td>Encounter</td>\n",
       "      <td>ParkBoGum SongHyeKyo JangSeungJo P.O NamGiAe S...</td>\n",
       "      <td>Park Shin-Woo</td>\n",
       "      <td>Yoo Young-A</td>\n",
       "    </tr>\n",
       "    <tr>\n",
       "      <th>4</th>\n",
       "      <td>32</td>\n",
       "      <td>Romance Melodrama Drama KoreanDrama</td>\n",
       "      <td>Sbs</td>\n",
       "      <td>9.55</td>\n",
       "      <td>PG-13</td>\n",
       "      <td>My Strange Hero</td>\n",
       "      <td>YooSeungHo JoBoAh KwakDongYeon YooSeonHo KimDo...</td>\n",
       "      <td>Ham Joon-Ho</td>\n",
       "      <td>Kim Yoon-Young</td>\n",
       "    </tr>\n",
       "  </tbody>\n",
       "</table>\n",
       "</div>"
      ],
      "text/plain": [
       "   # episodes                                           genre network  rating  \\\n",
       "0          32  KoreanDrama Drama Romance Comedy Crime&Mystery     Sbs    9.58   \n",
       "1          36                   Romance Melodrama KoreanDrama     Sbs    8.73   \n",
       "2          42                       KoreanDrama Drama Romance     Sbs    9.45   \n",
       "3          16                             Romance KoreanDrama     Tvn    9.56   \n",
       "4          32             Romance Melodrama Drama KoreanDrama     Sbs    9.55   \n",
       "\n",
       "  s_rating                 title  \\\n",
       "0    PG-13  Thirty But Seventeen   \n",
       "1    PG-13      Fates and Furies   \n",
       "2    PG-13      The Last Empress   \n",
       "3    PG-13             Encounter   \n",
       "4    PG-13       My Strange Hero   \n",
       "\n",
       "                                                cast        director  \\\n",
       "0  ShinHyeSun YangSeJong AhnHyoSeop YeJiWon JungY...      Jo Soo-Won   \n",
       "1  JooSangWook LeeMinJung LeeKiWoo SoYiHyun ParkS...  Jung Dong-Yoon   \n",
       "2  ShinSungRok JangNara ChoiJinHyuk ShinEunKyung ...    Joo Dong-Min   \n",
       "3  ParkBoGum SongHyeKyo JangSeungJo P.O NamGiAe S...   Park Shin-Woo   \n",
       "4  YooSeungHo JoBoAh KwakDongYeon YooSeonHo KimDo...     Ham Joon-Ho   \n",
       "\n",
       "       screenwriter  \n",
       "0       Jo Sung-Hee  \n",
       "1  Kang Cheol-Woong  \n",
       "2        Kim Sun-Ok  \n",
       "3       Yoo Young-A  \n",
       "4    Kim Yoon-Young  "
      ]
     },
     "execution_count": 14,
     "metadata": {},
     "output_type": "execute_result"
    }
   ],
   "source": [
    "data.head()"
   ]
  },
  {
   "cell_type": "markdown",
   "metadata": {},
   "source": [
    "## Format Director and Writer names"
   ]
  },
  {
   "cell_type": "code",
   "execution_count": 28,
   "metadata": {},
   "outputs": [],
   "source": [
    "data['director'] = data['director'].map(lambda x: x.replace('-',' ').replace(' ','').replace(',', ' '))\n",
    "\n",
    "data['screenwriter'] = data['screenwriter'].map(lambda x: x.replace('-',' ').replace(' ','') if type(x) != float else '')\n",
    "\n",
    "# remove parenthesis and their content\n",
    "data['screenwriter'] = data['screenwriter'].map(lambda name: re.sub('\\(.+?\\)','',name).replace(',',' ') if type(name) != float else name )\n"
   ]
  },
  {
   "cell_type": "code",
   "execution_count": 30,
   "metadata": {},
   "outputs": [
    {
     "name": "stdout",
     "output_type": "stream",
     "text": [
      "<class 'pandas.core.frame.DataFrame'>\n",
      "RangeIndex: 624 entries, 0 to 623\n",
      "Data columns (total 9 columns):\n",
      "# episodes      624 non-null int64\n",
      "genre           624 non-null object\n",
      "network         624 non-null object\n",
      "rating          624 non-null float64\n",
      "s_rating        624 non-null object\n",
      "title           624 non-null object\n",
      "cast            624 non-null object\n",
      "director        624 non-null object\n",
      "screenwriter    624 non-null object\n",
      "dtypes: float64(1), int64(1), object(7)\n",
      "memory usage: 44.0+ KB\n"
     ]
    }
   ],
   "source": [
    "data.info()"
   ]
  },
  {
   "cell_type": "code",
   "execution_count": 18,
   "metadata": {},
   "outputs": [],
   "source": [
    "data.to_csv('../data/clean_content.csv', index = False)"
   ]
  },
  {
   "cell_type": "code",
   "execution_count": 37,
   "metadata": {},
   "outputs": [],
   "source": [
    "data['content'] = data['# episodes'].astype(str) +' '+data['genre']+' '+data['network'] +' '+ data['s_rating']+' '+data['cast']+' '+data['director']+' '+data['screenwriter']"
   ]
  },
  {
   "cell_type": "code",
   "execution_count": 39,
   "metadata": {
    "scrolled": true
   },
   "outputs": [],
   "source": [
    "merged_data = pd.concat([pd.DataFrame(data['title']), pd.DataFrame(data['content'])], axis = 1)"
   ]
  },
  {
   "cell_type": "code",
   "execution_count": 40,
   "metadata": {},
   "outputs": [
    {
     "data": {
      "text/html": [
       "<div>\n",
       "<style scoped>\n",
       "    .dataframe tbody tr th:only-of-type {\n",
       "        vertical-align: middle;\n",
       "    }\n",
       "\n",
       "    .dataframe tbody tr th {\n",
       "        vertical-align: top;\n",
       "    }\n",
       "\n",
       "    .dataframe thead th {\n",
       "        text-align: right;\n",
       "    }\n",
       "</style>\n",
       "<table border=\"1\" class=\"dataframe\">\n",
       "  <thead>\n",
       "    <tr style=\"text-align: right;\">\n",
       "      <th></th>\n",
       "      <th>title</th>\n",
       "      <th>content</th>\n",
       "    </tr>\n",
       "  </thead>\n",
       "  <tbody>\n",
       "    <tr>\n",
       "      <th>0</th>\n",
       "      <td>Thirty But Seventeen</td>\n",
       "      <td>32 KoreanDrama Drama Romance Comedy Crime&amp;Myst...</td>\n",
       "    </tr>\n",
       "    <tr>\n",
       "      <th>1</th>\n",
       "      <td>Fates and Furies</td>\n",
       "      <td>36 Romance Melodrama KoreanDrama Sbs PG-13 Joo...</td>\n",
       "    </tr>\n",
       "    <tr>\n",
       "      <th>2</th>\n",
       "      <td>The Last Empress</td>\n",
       "      <td>42 KoreanDrama Drama Romance Sbs PG-13 ShinSun...</td>\n",
       "    </tr>\n",
       "    <tr>\n",
       "      <th>3</th>\n",
       "      <td>Encounter</td>\n",
       "      <td>16 Romance KoreanDrama Tvn PG-13 ParkBoGum Son...</td>\n",
       "    </tr>\n",
       "    <tr>\n",
       "      <th>4</th>\n",
       "      <td>My Strange Hero</td>\n",
       "      <td>32 Romance Melodrama Drama KoreanDrama Sbs PG-...</td>\n",
       "    </tr>\n",
       "  </tbody>\n",
       "</table>\n",
       "</div>"
      ],
      "text/plain": [
       "                  title                                            content\n",
       "0  Thirty But Seventeen  32 KoreanDrama Drama Romance Comedy Crime&Myst...\n",
       "1      Fates and Furies  36 Romance Melodrama KoreanDrama Sbs PG-13 Joo...\n",
       "2      The Last Empress  42 KoreanDrama Drama Romance Sbs PG-13 ShinSun...\n",
       "3             Encounter  16 Romance KoreanDrama Tvn PG-13 ParkBoGum Son...\n",
       "4       My Strange Hero  32 Romance Melodrama Drama KoreanDrama Sbs PG-..."
      ]
     },
     "execution_count": 40,
     "metadata": {},
     "output_type": "execute_result"
    }
   ],
   "source": [
    "merged_data.head()"
   ]
  },
  {
   "cell_type": "code",
   "execution_count": 41,
   "metadata": {},
   "outputs": [],
   "source": [
    "merged_data.to_csv('../data/merged_content.csv', index = False)"
   ]
  },
  {
   "cell_type": "code",
   "execution_count": null,
   "metadata": {},
   "outputs": [],
   "source": []
  }
 ],
 "metadata": {
  "kernelspec": {
   "display_name": "Python 3",
   "language": "python",
   "name": "python3"
  },
  "language_info": {
   "codemirror_mode": {
    "name": "ipython",
    "version": 3
   },
   "file_extension": ".py",
   "mimetype": "text/x-python",
   "name": "python",
   "nbconvert_exporter": "python",
   "pygments_lexer": "ipython3",
   "version": "3.6.6"
  }
 },
 "nbformat": 4,
 "nbformat_minor": 2
}
