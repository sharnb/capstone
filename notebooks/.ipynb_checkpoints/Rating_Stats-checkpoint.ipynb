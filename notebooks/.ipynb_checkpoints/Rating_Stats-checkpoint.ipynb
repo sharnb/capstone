{
 "cells": [
  {
   "cell_type": "markdown",
   "metadata": {},
   "source": [
    "# Rating Stats\n",
    "> Author: Sharnique Beck\n",
    "\n",
    "This notebook looks at the stats"
   ]
  },
  {
   "cell_type": "code",
   "execution_count": 1,
   "metadata": {},
   "outputs": [],
   "source": [
    "import pandas as pd"
   ]
  },
  {
   "cell_type": "code",
   "execution_count": 2,
   "metadata": {},
   "outputs": [],
   "source": [
    "kr= pd.read_csv('./data/k_ratings_total.csv')\n",
    "kt= pd.read_csv('./data/k_titles.csv')"
   ]
  },
  {
   "cell_type": "code",
   "execution_count": 3,
   "metadata": {},
   "outputs": [
    {
     "data": {
      "text/plain": [
       "620"
      ]
     },
     "execution_count": 3,
     "metadata": {},
     "output_type": "execute_result"
    }
   ],
   "source": [
    "kt['title'].nunique()"
   ]
  },
  {
   "cell_type": "code",
   "execution_count": 4,
   "metadata": {},
   "outputs": [
    {
     "data": {
      "text/plain": [
       "618"
      ]
     },
     "execution_count": 4,
     "metadata": {},
     "output_type": "execute_result"
    }
   ],
   "source": [
    "kr['title'].nunique()"
   ]
  },
  {
   "cell_type": "code",
   "execution_count": 5,
   "metadata": {
    "scrolled": true
   },
   "outputs": [
    {
     "data": {
      "text/plain": [
       "(402426, 3)"
      ]
     },
     "execution_count": 5,
     "metadata": {},
     "output_type": "execute_result"
    }
   ],
   "source": [
    "kr.shape"
   ]
  },
  {
   "cell_type": "code",
   "execution_count": 6,
   "metadata": {},
   "outputs": [
    {
     "data": {
      "text/plain": [
       "183650"
      ]
     },
     "execution_count": 6,
     "metadata": {},
     "output_type": "execute_result"
    }
   ],
   "source": [
    "kr['user'].nunique()"
   ]
  },
  {
   "cell_type": "code",
   "execution_count": 7,
   "metadata": {
    "scrolled": true
   },
   "outputs": [
    {
     "data": {
      "text/html": [
       "<div>\n",
       "<style scoped>\n",
       "    .dataframe tbody tr th:only-of-type {\n",
       "        vertical-align: middle;\n",
       "    }\n",
       "\n",
       "    .dataframe tbody tr th {\n",
       "        vertical-align: top;\n",
       "    }\n",
       "\n",
       "    .dataframe thead th {\n",
       "        text-align: right;\n",
       "    }\n",
       "</style>\n",
       "<table border=\"1\" class=\"dataframe\">\n",
       "  <thead>\n",
       "    <tr style=\"text-align: right;\">\n",
       "      <th></th>\n",
       "      <th>rating</th>\n",
       "      <th>title</th>\n",
       "      <th>user</th>\n",
       "    </tr>\n",
       "  </thead>\n",
       "  <tbody>\n",
       "    <tr>\n",
       "      <th>0</th>\n",
       "      <td>10</td>\n",
       "      <td>Thirty But Seventeen</td>\n",
       "      <td>la_fra</td>\n",
       "    </tr>\n",
       "    <tr>\n",
       "      <th>1</th>\n",
       "      <td>10</td>\n",
       "      <td>Thirty But Seventeen</td>\n",
       "      <td>jyotikababbar999_688</td>\n",
       "    </tr>\n",
       "    <tr>\n",
       "      <th>2</th>\n",
       "      <td>10</td>\n",
       "      <td>Thirty But Seventeen</td>\n",
       "      <td>lucianakarolina6b_700</td>\n",
       "    </tr>\n",
       "    <tr>\n",
       "      <th>3</th>\n",
       "      <td>10</td>\n",
       "      <td>Thirty But Seventeen</td>\n",
       "      <td>lsnowe05</td>\n",
       "    </tr>\n",
       "    <tr>\n",
       "      <th>4</th>\n",
       "      <td>10</td>\n",
       "      <td>Thirty But Seventeen</td>\n",
       "      <td>luisarreta_770</td>\n",
       "    </tr>\n",
       "  </tbody>\n",
       "</table>\n",
       "</div>"
      ],
      "text/plain": [
       "   rating                 title                   user\n",
       "0      10  Thirty But Seventeen                 la_fra\n",
       "1      10  Thirty But Seventeen   jyotikababbar999_688\n",
       "2      10  Thirty But Seventeen  lucianakarolina6b_700\n",
       "3      10  Thirty But Seventeen               lsnowe05\n",
       "4      10  Thirty But Seventeen         luisarreta_770"
      ]
     },
     "execution_count": 7,
     "metadata": {},
     "output_type": "execute_result"
    }
   ],
   "source": [
    "kr.head()"
   ]
  },
  {
   "cell_type": "code",
   "execution_count": 23,
   "metadata": {},
   "outputs": [
    {
     "data": {
      "text/plain": [
       "Strong Woman Do Bong Soon             16627\n",
       "W                                     13774\n",
       "Descendants of the Sun                13445\n",
       "Weightlifting Fairy Kim Bok Joo       11744\n",
       "What’s Wrong With Secretary Kim       10967\n",
       "The Legend of the Blue Sea             9734\n",
       "While You Were Sleeping                9091\n",
       "I Am Not a Robot                       8058\n",
       "Oh My Venus                            7845\n",
       "She Was Pretty                         7747\n",
       "Boys Over Flowers                      7656\n",
       "Hwarang                                7514\n",
       "Suspicious Partner                     6673\n",
       "Because This Is My First Life          5686\n",
       "My Love From the Star                  5404\n",
       "Healer                                 4920\n",
       "Just Between Lovers                    4814\n",
       "Kill Me Heal Me                        4718\n",
       "When Time Stopped                      4686\n",
       "Hwayugi                                4663\n",
       "Doctors                                4600\n",
       "Moorim School                          3860\n",
       "Splash Splash Love                     3843\n",
       "Pinocchio                              3688\n",
       "Moonlight Drawn by Clouds              3596\n",
       "Cheer Up!                              3588\n",
       "Who Are You                            3550\n",
       "Rich Man, Poor Woman                   3510\n",
       "Fight My Way                           3373\n",
       "Playful Kiss                           3277\n",
       "                                      ...  \n",
       "My Little Kitchen Season 2                5\n",
       "Gloria                                    5\n",
       "Why Couldn’t You Get Married?             5\n",
       "Light and Shadow                          4\n",
       "Merry Mary                                4\n",
       "2016 DMC Festival                         4\n",
       "Music Bank K-Chart                        4\n",
       "YoGoBaLa                                  4\n",
       "The Road to Seoul                         4\n",
       "Little Too Crazy                          3\n",
       "Section TV Entertainment News             3\n",
       "2018 KBS Drama Awards                     3\n",
       "LC9's Life of Research                    3\n",
       "Moon Hee                                  3\n",
       "My Little Television                      3\n",
       "2018 Changwon K-POP World Festival        3\n",
       "Pets GO! Doggy Trip                       3\n",
       "DMCF 2018                                 2\n",
       "E-news Exclusive                          2\n",
       "2018 KBS Entertainment Awards             2\n",
       "SBS Super Concert in Suwon                2\n",
       "Auction House                             2\n",
       "2018 KBS Drama Special                    2\n",
       "Food Truck                                2\n",
       "Again, My Love                            2\n",
       "Modern Housewives                         2\n",
       "2017 MBC Entertainment Awards             1\n",
       "2017 SBS Entertainment Awards             1\n",
       "On Air                                    1\n",
       "Yu Huiyeol’s Sketchbook                   1\n",
       "Name: title, Length: 618, dtype: int64"
      ]
     },
     "execution_count": 23,
     "metadata": {},
     "output_type": "execute_result"
    }
   ],
   "source": [
    "kr['title'].value_counts()"
   ]
  },
  {
   "cell_type": "code",
   "execution_count": 7,
   "metadata": {
    "scrolled": true
   },
   "outputs": [
    {
     "data": {
      "text/html": [
       "<div>\n",
       "<style scoped>\n",
       "    .dataframe tbody tr th:only-of-type {\n",
       "        vertical-align: middle;\n",
       "    }\n",
       "\n",
       "    .dataframe tbody tr th {\n",
       "        vertical-align: top;\n",
       "    }\n",
       "\n",
       "    .dataframe thead th {\n",
       "        text-align: right;\n",
       "    }\n",
       "</style>\n",
       "<table border=\"1\" class=\"dataframe\">\n",
       "  <thead>\n",
       "    <tr style=\"text-align: right;\">\n",
       "      <th></th>\n",
       "      <th>rating</th>\n",
       "      <th>title</th>\n",
       "      <th>user</th>\n",
       "    </tr>\n",
       "  </thead>\n",
       "  <tbody>\n",
       "    <tr>\n",
       "      <th>0</th>\n",
       "      <td>10</td>\n",
       "      <td>Thirty But Seventeen</td>\n",
       "      <td>la_fra</td>\n",
       "    </tr>\n",
       "    <tr>\n",
       "      <th>1</th>\n",
       "      <td>10</td>\n",
       "      <td>Thirty But Seventeen</td>\n",
       "      <td>jyotikababbar999_688</td>\n",
       "    </tr>\n",
       "    <tr>\n",
       "      <th>2</th>\n",
       "      <td>10</td>\n",
       "      <td>Thirty But Seventeen</td>\n",
       "      <td>lucianakarolina6b_700</td>\n",
       "    </tr>\n",
       "    <tr>\n",
       "      <th>3</th>\n",
       "      <td>10</td>\n",
       "      <td>Thirty But Seventeen</td>\n",
       "      <td>lsnowe05</td>\n",
       "    </tr>\n",
       "    <tr>\n",
       "      <th>4</th>\n",
       "      <td>10</td>\n",
       "      <td>Thirty But Seventeen</td>\n",
       "      <td>luisarreta_770</td>\n",
       "    </tr>\n",
       "  </tbody>\n",
       "</table>\n",
       "</div>"
      ],
      "text/plain": [
       "   rating                 title                   user\n",
       "0      10  Thirty But Seventeen                 la_fra\n",
       "1      10  Thirty But Seventeen   jyotikababbar999_688\n",
       "2      10  Thirty But Seventeen  lucianakarolina6b_700\n",
       "3      10  Thirty But Seventeen               lsnowe05\n",
       "4      10  Thirty But Seventeen         luisarreta_770"
      ]
     },
     "execution_count": 7,
     "metadata": {},
     "output_type": "execute_result"
    }
   ],
   "source": [
    "kr.head()"
   ]
  },
  {
   "cell_type": "code",
   "execution_count": 8,
   "metadata": {
    "scrolled": true
   },
   "outputs": [],
   "source": [
    "user_ids = pd.DataFrame(kr['user'].value_counts()).reset_index().rename(columns={'index': 'user','user':'num'}).reset_index()\n",
    "# user_ids.set_index(keys='user',inplace=True)"
   ]
  },
  {
   "cell_type": "code",
   "execution_count": 9,
   "metadata": {},
   "outputs": [],
   "source": [
    "user_ids.drop('num', axis=1,inplace=True)"
   ]
  },
  {
   "cell_type": "code",
   "execution_count": 11,
   "metadata": {},
   "outputs": [],
   "source": [
    "user_ids.rename(columns={'index':'user_id'}, inplace=True)"
   ]
  },
  {
   "cell_type": "code",
   "execution_count": 12,
   "metadata": {},
   "outputs": [
    {
     "data": {
      "text/html": [
       "<div>\n",
       "<style scoped>\n",
       "    .dataframe tbody tr th:only-of-type {\n",
       "        vertical-align: middle;\n",
       "    }\n",
       "\n",
       "    .dataframe tbody tr th {\n",
       "        vertical-align: top;\n",
       "    }\n",
       "\n",
       "    .dataframe thead th {\n",
       "        text-align: right;\n",
       "    }\n",
       "</style>\n",
       "<table border=\"1\" class=\"dataframe\">\n",
       "  <thead>\n",
       "    <tr style=\"text-align: right;\">\n",
       "      <th></th>\n",
       "      <th>user_id</th>\n",
       "      <th>user</th>\n",
       "    </tr>\n",
       "  </thead>\n",
       "  <tbody>\n",
       "    <tr>\n",
       "      <th>0</th>\n",
       "      <td>0</td>\n",
       "      <td>elizabethpereira37_167</td>\n",
       "    </tr>\n",
       "    <tr>\n",
       "      <th>1</th>\n",
       "      <td>1</td>\n",
       "      <td>dani_x_danek_920</td>\n",
       "    </tr>\n",
       "    <tr>\n",
       "      <th>2</th>\n",
       "      <td>2</td>\n",
       "      <td>kheevmhy_957</td>\n",
       "    </tr>\n",
       "    <tr>\n",
       "      <th>3</th>\n",
       "      <td>3</td>\n",
       "      <td>danyli_lari_25</td>\n",
       "    </tr>\n",
       "    <tr>\n",
       "      <th>4</th>\n",
       "      <td>4</td>\n",
       "      <td>caterina31_170</td>\n",
       "    </tr>\n",
       "  </tbody>\n",
       "</table>\n",
       "</div>"
      ],
      "text/plain": [
       "   user_id                    user\n",
       "0        0  elizabethpereira37_167\n",
       "1        1        dani_x_danek_920\n",
       "2        2            kheevmhy_957\n",
       "3        3          danyli_lari_25\n",
       "4        4          caterina31_170"
      ]
     },
     "execution_count": 12,
     "metadata": {},
     "output_type": "execute_result"
    }
   ],
   "source": [
    "user_ids.head()"
   ]
  },
  {
   "cell_type": "code",
   "execution_count": 17,
   "metadata": {},
   "outputs": [],
   "source": [
    "data=pd.merge(kr,user_ids)"
   ]
  },
  {
   "cell_type": "code",
   "execution_count": 18,
   "metadata": {},
   "outputs": [
    {
     "data": {
      "text/html": [
       "<div>\n",
       "<style scoped>\n",
       "    .dataframe tbody tr th:only-of-type {\n",
       "        vertical-align: middle;\n",
       "    }\n",
       "\n",
       "    .dataframe tbody tr th {\n",
       "        vertical-align: top;\n",
       "    }\n",
       "\n",
       "    .dataframe thead th {\n",
       "        text-align: right;\n",
       "    }\n",
       "</style>\n",
       "<table border=\"1\" class=\"dataframe\">\n",
       "  <thead>\n",
       "    <tr style=\"text-align: right;\">\n",
       "      <th></th>\n",
       "      <th>rating</th>\n",
       "      <th>title</th>\n",
       "      <th>user</th>\n",
       "      <th>user_id</th>\n",
       "    </tr>\n",
       "  </thead>\n",
       "  <tbody>\n",
       "    <tr>\n",
       "      <th>0</th>\n",
       "      <td>10</td>\n",
       "      <td>Thirty But Seventeen</td>\n",
       "      <td>la_fra</td>\n",
       "      <td>19253</td>\n",
       "    </tr>\n",
       "    <tr>\n",
       "      <th>1</th>\n",
       "      <td>10</td>\n",
       "      <td>W</td>\n",
       "      <td>la_fra</td>\n",
       "      <td>19253</td>\n",
       "    </tr>\n",
       "    <tr>\n",
       "      <th>2</th>\n",
       "      <td>10</td>\n",
       "      <td>Descendants of the Sun</td>\n",
       "      <td>la_fra</td>\n",
       "      <td>19253</td>\n",
       "    </tr>\n",
       "    <tr>\n",
       "      <th>3</th>\n",
       "      <td>10</td>\n",
       "      <td>Fight My Way</td>\n",
       "      <td>la_fra</td>\n",
       "      <td>19253</td>\n",
       "    </tr>\n",
       "    <tr>\n",
       "      <th>4</th>\n",
       "      <td>10</td>\n",
       "      <td>Thirty But Seventeen</td>\n",
       "      <td>jyotikababbar999_688</td>\n",
       "      <td>143260</td>\n",
       "    </tr>\n",
       "  </tbody>\n",
       "</table>\n",
       "</div>"
      ],
      "text/plain": [
       "   rating                   title                  user  user_id\n",
       "0      10    Thirty But Seventeen                la_fra    19253\n",
       "1      10                       W                la_fra    19253\n",
       "2      10  Descendants of the Sun                la_fra    19253\n",
       "3      10            Fight My Way                la_fra    19253\n",
       "4      10    Thirty But Seventeen  jyotikababbar999_688   143260"
      ]
     },
     "execution_count": 18,
     "metadata": {},
     "output_type": "execute_result"
    }
   ],
   "source": [
    "data.head()"
   ]
  },
  {
   "cell_type": "code",
   "execution_count": 19,
   "metadata": {},
   "outputs": [],
   "source": [
    "data.to_csv('./data/ratings_data.csv', index=False)"
   ]
  },
  {
   "cell_type": "code",
   "execution_count": null,
   "metadata": {},
   "outputs": [],
   "source": []
  }
 ],
 "metadata": {
  "kernelspec": {
   "display_name": "Python 3",
   "language": "python",
   "name": "python3"
  },
  "language_info": {
   "codemirror_mode": {
    "name": "ipython",
    "version": 3
   },
   "file_extension": ".py",
   "mimetype": "text/x-python",
   "name": "python",
   "nbconvert_exporter": "python",
   "pygments_lexer": "ipython3",
   "version": "3.6.6"
  }
 },
 "nbformat": 4,
 "nbformat_minor": 2
}
