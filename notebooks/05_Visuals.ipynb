{
 "cells": [
  {
   "cell_type": "markdown",
   "metadata": {},
   "source": [
    "# Data Visualizations\n",
    "> Author: Sharnique Beck\n",
    "\n",
    "This notebook is where I create visuals of the data I've collected for analysis."
   ]
  },
  {
   "cell_type": "code",
   "execution_count": 35,
   "metadata": {},
   "outputs": [],
   "source": [
    "import pandas as pd\n",
    "import matplotlib.pyplot as plt\n",
    "\n",
    "%matplotlib inline"
   ]
  },
  {
   "cell_type": "code",
   "execution_count": 39,
   "metadata": {},
   "outputs": [],
   "source": [
    "shows = pd.read_csv('./data/k_titles.csv')\n",
    "ratings = pd.read_csv('./data/ratings_data.csv')\n",
    "content = pd.read_csv('./data/show_info.csv')"
   ]
  },
  {
   "cell_type": "code",
   "execution_count": 67,
   "metadata": {},
   "outputs": [
    {
     "name": "stdout",
     "output_type": "stream",
     "text": [
      "624\n"
     ]
    },
    {
     "data": {
      "text/html": [
       "<div>\n",
       "<style scoped>\n",
       "    .dataframe tbody tr th:only-of-type {\n",
       "        vertical-align: middle;\n",
       "    }\n",
       "\n",
       "    .dataframe tbody tr th {\n",
       "        vertical-align: top;\n",
       "    }\n",
       "\n",
       "    .dataframe thead th {\n",
       "        text-align: right;\n",
       "    }\n",
       "</style>\n",
       "<table border=\"1\" class=\"dataframe\">\n",
       "  <thead>\n",
       "    <tr style=\"text-align: right;\">\n",
       "      <th></th>\n",
       "      <th>title</th>\n",
       "      <th>url</th>\n",
       "      <th>container</th>\n",
       "      <th>rating</th>\n",
       "      <th># ratings</th>\n",
       "    </tr>\n",
       "  </thead>\n",
       "  <tbody>\n",
       "    <tr>\n",
       "      <th>0</th>\n",
       "      <td>Thirty But Seventeen</td>\n",
       "      <td>https://www.viki.com/tv/36109c-thirty-but-seve...</td>\n",
       "      <td>36109c</td>\n",
       "      <td>9.58</td>\n",
       "      <td>7368</td>\n",
       "    </tr>\n",
       "    <tr>\n",
       "      <th>1</th>\n",
       "      <td>Fates and Furies</td>\n",
       "      <td>https://www.viki.com/tv/36240c-fates-and-furies</td>\n",
       "      <td>36240c</td>\n",
       "      <td>9.14</td>\n",
       "      <td>1401</td>\n",
       "    </tr>\n",
       "    <tr>\n",
       "      <th>2</th>\n",
       "      <td>The Last Empress</td>\n",
       "      <td>https://www.viki.com/tv/36241c-the-last-empress</td>\n",
       "      <td>36241c</td>\n",
       "      <td>9.45</td>\n",
       "      <td>3858</td>\n",
       "    </tr>\n",
       "    <tr>\n",
       "      <th>3</th>\n",
       "      <td>Encounter</td>\n",
       "      <td>https://www.viki.com/tv/36239c-encounter</td>\n",
       "      <td>36239c</td>\n",
       "      <td>9.59</td>\n",
       "      <td>5436</td>\n",
       "    </tr>\n",
       "    <tr>\n",
       "      <th>4</th>\n",
       "      <td>My Strange Hero</td>\n",
       "      <td>https://www.viki.com/tv/36330c-my-strange-hero</td>\n",
       "      <td>36330c</td>\n",
       "      <td>9.56</td>\n",
       "      <td>2239</td>\n",
       "    </tr>\n",
       "  </tbody>\n",
       "</table>\n",
       "</div>"
      ],
      "text/plain": [
       "                  title                                                url  \\\n",
       "0  Thirty But Seventeen  https://www.viki.com/tv/36109c-thirty-but-seve...   \n",
       "1      Fates and Furies    https://www.viki.com/tv/36240c-fates-and-furies   \n",
       "2      The Last Empress    https://www.viki.com/tv/36241c-the-last-empress   \n",
       "3             Encounter           https://www.viki.com/tv/36239c-encounter   \n",
       "4       My Strange Hero     https://www.viki.com/tv/36330c-my-strange-hero   \n",
       "\n",
       "  container  rating  # ratings  \n",
       "0    36109c    9.58       7368  \n",
       "1    36240c    9.14       1401  \n",
       "2    36241c    9.45       3858  \n",
       "3    36239c    9.59       5436  \n",
       "4    36330c    9.56       2239  "
      ]
     },
     "execution_count": 67,
     "metadata": {},
     "output_type": "execute_result"
    }
   ],
   "source": [
    "print(shows.shape[0])\n",
    "shows.head()"
   ]
  },
  {
   "cell_type": "code",
   "execution_count": 6,
   "metadata": {},
   "outputs": [
    {
     "data": {
      "text/html": [
       "<div>\n",
       "<style scoped>\n",
       "    .dataframe tbody tr th:only-of-type {\n",
       "        vertical-align: middle;\n",
       "    }\n",
       "\n",
       "    .dataframe tbody tr th {\n",
       "        vertical-align: top;\n",
       "    }\n",
       "\n",
       "    .dataframe thead th {\n",
       "        text-align: right;\n",
       "    }\n",
       "</style>\n",
       "<table border=\"1\" class=\"dataframe\">\n",
       "  <thead>\n",
       "    <tr style=\"text-align: right;\">\n",
       "      <th></th>\n",
       "      <th>rating</th>\n",
       "      <th>title</th>\n",
       "      <th>user</th>\n",
       "      <th>user_id</th>\n",
       "    </tr>\n",
       "  </thead>\n",
       "  <tbody>\n",
       "    <tr>\n",
       "      <th>0</th>\n",
       "      <td>10</td>\n",
       "      <td>Thirty But Seventeen</td>\n",
       "      <td>la_fra</td>\n",
       "      <td>19253</td>\n",
       "    </tr>\n",
       "    <tr>\n",
       "      <th>1</th>\n",
       "      <td>10</td>\n",
       "      <td>W</td>\n",
       "      <td>la_fra</td>\n",
       "      <td>19253</td>\n",
       "    </tr>\n",
       "    <tr>\n",
       "      <th>2</th>\n",
       "      <td>10</td>\n",
       "      <td>Descendants of the Sun</td>\n",
       "      <td>la_fra</td>\n",
       "      <td>19253</td>\n",
       "    </tr>\n",
       "    <tr>\n",
       "      <th>3</th>\n",
       "      <td>10</td>\n",
       "      <td>Fight My Way</td>\n",
       "      <td>la_fra</td>\n",
       "      <td>19253</td>\n",
       "    </tr>\n",
       "    <tr>\n",
       "      <th>4</th>\n",
       "      <td>10</td>\n",
       "      <td>Thirty But Seventeen</td>\n",
       "      <td>jyotikababbar999_688</td>\n",
       "      <td>143260</td>\n",
       "    </tr>\n",
       "  </tbody>\n",
       "</table>\n",
       "</div>"
      ],
      "text/plain": [
       "   rating                   title                  user  user_id\n",
       "0      10    Thirty But Seventeen                la_fra    19253\n",
       "1      10                       W                la_fra    19253\n",
       "2      10  Descendants of the Sun                la_fra    19253\n",
       "3      10            Fight My Way                la_fra    19253\n",
       "4      10    Thirty But Seventeen  jyotikababbar999_688   143260"
      ]
     },
     "execution_count": 6,
     "metadata": {},
     "output_type": "execute_result"
    }
   ],
   "source": [
    "ratings.head()"
   ]
  },
  {
   "cell_type": "code",
   "execution_count": 28,
   "metadata": {},
   "outputs": [
    {
     "data": {
      "text/html": [
       "<div>\n",
       "<style scoped>\n",
       "    .dataframe tbody tr th:only-of-type {\n",
       "        vertical-align: middle;\n",
       "    }\n",
       "\n",
       "    .dataframe tbody tr th {\n",
       "        vertical-align: top;\n",
       "    }\n",
       "\n",
       "    .dataframe thead th {\n",
       "        text-align: right;\n",
       "    }\n",
       "</style>\n",
       "<table border=\"1\" class=\"dataframe\">\n",
       "  <thead>\n",
       "    <tr style=\"text-align: right;\">\n",
       "      <th></th>\n",
       "      <th># episodes</th>\n",
       "      <th>genre</th>\n",
       "      <th>network</th>\n",
       "      <th>rating</th>\n",
       "      <th>s_rating</th>\n",
       "      <th>title</th>\n",
       "      <th>cast</th>\n",
       "      <th>director</th>\n",
       "      <th>screenwriter</th>\n",
       "    </tr>\n",
       "  </thead>\n",
       "  <tbody>\n",
       "    <tr>\n",
       "      <th>0</th>\n",
       "      <td>32</td>\n",
       "      <td>['23g', '9g', '18g', '6g', '7g']</td>\n",
       "      <td>SBS</td>\n",
       "      <td>9.58</td>\n",
       "      <td>PG-13</td>\n",
       "      <td>Thirty But Seventeen</td>\n",
       "      <td>['Shin Hye Sun', 'Yang Se Jong', 'Ahn Hyo Seop...</td>\n",
       "      <td>Jo Soo-Won</td>\n",
       "      <td>Jo Sung-Hee</td>\n",
       "    </tr>\n",
       "    <tr>\n",
       "      <th>1</th>\n",
       "      <td>36</td>\n",
       "      <td>['18g', '1041g', '23g']</td>\n",
       "      <td>SBS</td>\n",
       "      <td>8.73</td>\n",
       "      <td>PG-13</td>\n",
       "      <td>Fates and Furies</td>\n",
       "      <td>['Joo Sang Wook', 'Lee Min Jung', 'Lee Ki Woo'...</td>\n",
       "      <td>Jung Dong-Yoon</td>\n",
       "      <td>Kang Cheol-Woong</td>\n",
       "    </tr>\n",
       "    <tr>\n",
       "      <th>2</th>\n",
       "      <td>42</td>\n",
       "      <td>['23g', '9g', '18g']</td>\n",
       "      <td>SBS</td>\n",
       "      <td>9.45</td>\n",
       "      <td>PG-13</td>\n",
       "      <td>The Last Empress</td>\n",
       "      <td>['Shin Sung Rok', 'Jang Nara', 'Choi Jin Hyuk'...</td>\n",
       "      <td>Joo Dong-Min</td>\n",
       "      <td>Kim Sun-Ok</td>\n",
       "    </tr>\n",
       "    <tr>\n",
       "      <th>3</th>\n",
       "      <td>16</td>\n",
       "      <td>['18g', '23g']</td>\n",
       "      <td>tvN</td>\n",
       "      <td>9.56</td>\n",
       "      <td>PG-13</td>\n",
       "      <td>Encounter</td>\n",
       "      <td>['Park Bo Gum', 'Song Hye Kyo', 'Jang Seung Jo...</td>\n",
       "      <td>Park Shin-Woo</td>\n",
       "      <td>Yoo Young-A</td>\n",
       "    </tr>\n",
       "    <tr>\n",
       "      <th>4</th>\n",
       "      <td>32</td>\n",
       "      <td>['18g', '1041g', '9g', '23g']</td>\n",
       "      <td>SBS</td>\n",
       "      <td>9.55</td>\n",
       "      <td>PG-13</td>\n",
       "      <td>My Strange Hero</td>\n",
       "      <td>['Yoo Seung Ho', 'Jo Bo Ah', 'Kwak Dong Yeon',...</td>\n",
       "      <td>Ham Joon-Ho</td>\n",
       "      <td>Kim Yoon-Young</td>\n",
       "    </tr>\n",
       "  </tbody>\n",
       "</table>\n",
       "</div>"
      ],
      "text/plain": [
       "   # episodes                             genre network  rating s_rating  \\\n",
       "0          32  ['23g', '9g', '18g', '6g', '7g']     SBS    9.58    PG-13   \n",
       "1          36           ['18g', '1041g', '23g']     SBS    8.73    PG-13   \n",
       "2          42              ['23g', '9g', '18g']     SBS    9.45    PG-13   \n",
       "3          16                    ['18g', '23g']     tvN    9.56    PG-13   \n",
       "4          32     ['18g', '1041g', '9g', '23g']     SBS    9.55    PG-13   \n",
       "\n",
       "                  title                                               cast  \\\n",
       "0  Thirty But Seventeen  ['Shin Hye Sun', 'Yang Se Jong', 'Ahn Hyo Seop...   \n",
       "1      Fates and Furies  ['Joo Sang Wook', 'Lee Min Jung', 'Lee Ki Woo'...   \n",
       "2      The Last Empress  ['Shin Sung Rok', 'Jang Nara', 'Choi Jin Hyuk'...   \n",
       "3             Encounter  ['Park Bo Gum', 'Song Hye Kyo', 'Jang Seung Jo...   \n",
       "4       My Strange Hero  ['Yoo Seung Ho', 'Jo Bo Ah', 'Kwak Dong Yeon',...   \n",
       "\n",
       "         director      screenwriter  \n",
       "0      Jo Soo-Won       Jo Sung-Hee  \n",
       "1  Jung Dong-Yoon  Kang Cheol-Woong  \n",
       "2    Joo Dong-Min        Kim Sun-Ok  \n",
       "3   Park Shin-Woo       Yoo Young-A  \n",
       "4     Ham Joon-Ho    Kim Yoon-Young  "
      ]
     },
     "execution_count": 28,
     "metadata": {},
     "output_type": "execute_result"
    }
   ],
   "source": [
    "content.head()"
   ]
  },
  {
   "cell_type": "markdown",
   "metadata": {},
   "source": [
    "### Top 50 users with over 70 reviews"
   ]
  },
  {
   "cell_type": "code",
   "execution_count": 47,
   "metadata": {},
   "outputs": [
    {
     "data": {
      "image/png": "[encoded data removed]",
      "text/plain": [
       "<Figure size 432x288 with 1 Axes>"
      ]
     },
     "metadata": {
      "needs_background": "light"
     },
     "output_type": "display_data"
    }
   ],
   "source": [
    "ratings['user'].value_counts().head(50).hist(bins=50)\n",
    "plt.title('Top 50 users with over 70 reviews', fontsize = 20)\n",
    "plt.xlabel('# of reviews',fontsize=15)\n",
    "plt.ylabel('# of users',fontsize=15)\n",
    "plt.savefig('./images/Top50 users.png')"
   ]
  },
  {
   "cell_type": "markdown",
   "metadata": {},
   "source": [
    "### Top 50 shows with over 1900 reviews"
   ]
  },
  {
   "cell_type": "code",
   "execution_count": 48,
   "metadata": {},
   "outputs": [
    {
     "data": {
      "image/png": "[encoded data removed]",
      "text/plain": [
       "<Figure size 432x288 with 1 Axes>"
      ]
     },
     "metadata": {
      "needs_background": "light"
     },
     "output_type": "display_data"
    }
   ],
   "source": [
    "ratings['title'].value_counts().head(49).hist()\n",
    "plt.title('Top 50 shows with over 1900 reviews', fontsize = 20)\n",
    "plt.xlabel('# of reviews',fontsize=15)\n",
    "plt.ylabel('# of shows',fontsize=15)\n",
    "plt.savefig('./images/Top50 shows.png');"
   ]
  },
  {
   "cell_type": "code",
   "execution_count": 65,
   "metadata": {},
   "outputs": [
    {
     "data": {
      "text/plain": [
       "<matplotlib.axes._subplots.AxesSubplot at 0x1192c2518>"
      ]
     },
     "execution_count": 65,
     "metadata": {},
     "output_type": "execute_result"
    },
    {
     "data": {
      "image/png": "[encoded data removed]",
      "text/plain": [
       "<Figure size 432x288 with 1 Axes>"
      ]
     },
     "metadata": {
      "needs_background": "light"
     },
     "output_type": "display_data"
    }
   ],
   "source": [
    "content[content['# episodes']<33]['# episodes'].hist()"
   ]
  },
  {
   "cell_type": "code",
   "execution_count": 50,
   "metadata": {},
   "outputs": [
    {
     "data": {
      "text/plain": [
       "array(['SBS', 'tvN', 'MBN, Dramax', 'MBC', 'KBS', 'JTBC', 'XtvN', 'KBS2',\n",
       "       'KBS W', 'Channel A', 'MBN', 'Oksusu', 'Naver TV', 'SBS Plus',\n",
       "       'TV Chosun', 'OCN', 'MBC ', nan, 'MBC every 1', 'KBS ', 'SBS ',\n",
       "       'JTBC ', 'Arirang TV', 'Mnet', 'OnStyle', 'SBS PLUS',\n",
       "       'Dramax, UMAX', 'arirang TV', 'SBS MTV', 'On Style', 'E Channel',\n",
       "       'MBC Every1', 'Naver TV Cast, Conversion TV', 'CHANNEL A',\n",
       "       'MBC every Tuesday at 6PM', 'SOHU TV', \"O'live\", 'Tcast', 'QTV',\n",
       "       'MBC Music'], dtype=object)"
      ]
     },
     "execution_count": 50,
     "metadata": {},
     "output_type": "execute_result"
    }
   ],
   "source": [
    "content['network'].unique()"
   ]
  },
  {
   "cell_type": "code",
   "execution_count": 56,
   "metadata": {},
   "outputs": [
    {
     "data": {
      "text/plain": [
       "MBC    0.368067\n",
       "SBS    0.208403\n",
       "KBS    0.189916\n",
       "tvN    0.073950\n",
       "OCN    0.016807\n",
       "Name: network, dtype: float64"
      ]
     },
     "execution_count": 56,
     "metadata": {},
     "output_type": "execute_result"
    }
   ],
   "source": [
    "content['network'].value_counts(normalize=True).head()"
   ]
  },
  {
   "cell_type": "code",
   "execution_count": 63,
   "metadata": {},
   "outputs": [
    {
     "data": {
      "image/png": "[encoded data removed]",
      "text/plain": [
       "<Figure size 432x288 with 1 Axes>"
      ]
     },
     "metadata": {},
     "output_type": "display_data"
    }
   ],
   "source": [
    "plt.pie(content['network'].value_counts(), labels=content['network'].value_counts().index)\n",
    "plt.title('Network Distribution', fontsize = 20)\n",
    "plt.savefig('./images/Networks.png');"
   ]
  },
  {
   "cell_type": "code",
   "execution_count": 31,
   "metadata": {},
   "outputs": [
    {
     "data": {
      "text/plain": [
       "<matplotlib.axes._subplots.AxesSubplot at 0x113548d30>"
      ]
     },
     "execution_count": 31,
     "metadata": {},
     "output_type": "execute_result"
    },
    {
     "data": {
      "image/png": "[encoded data removed]",
      "text/plain": [
       "<Figure size 432x288 with 1 Axes>"
      ]
     },
     "metadata": {
      "needs_background": "light"
     },
     "output_type": "display_data"
    }
   ],
   "source": []
  },
  {
   "cell_type": "code",
   "execution_count": null,
   "metadata": {},
   "outputs": [],
   "source": []
  }
 ],
 "metadata": {
  "kernelspec": {
   "display_name": "Python 3",
   "language": "python",
   "name": "python3"
  },
  "language_info": {
   "codemirror_mode": {
    "name": "ipython",
    "version": 3
   },
   "file_extension": ".py",
   "mimetype": "text/x-python",
   "name": "python",
   "nbconvert_exporter": "python",
   "pygments_lexer": "ipython3",
   "version": "3.6.6"
  }
 },
 "nbformat": 4,
 "nbformat_minor": 2
}
