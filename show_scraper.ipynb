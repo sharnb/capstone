{
 "cells": [
  {
   "cell_type": "code",
   "execution_count": 3,
   "metadata": {},
   "outputs": [],
   "source": [
    "# Import libaries\n",
    "import pandas as pd\n",
    "import requests\n",
    "import time\n",
    "import re\n",
    "\n",
    "from bs4 import BeautifulSoup"
   ]
  },
  {
   "cell_type": "markdown",
   "metadata": {},
   "source": [
    "## Scrape the korean pages soup for show titles\n",
    "\n",
    "Note: Collect Title and show URL"
   ]
  },
  {
   "cell_type": "code",
   "execution_count": 1,
   "metadata": {},
   "outputs": [],
   "source": [
    "headers = {'User-agent': 'SB 1.0'}"
   ]
  },
  {
   "cell_type": "code",
   "execution_count": null,
   "metadata": {},
   "outputs": [],
   "source": [
    "shows = []\n",
    "\n",
    "for pg_num in range(1,36):\n",
    "    KD_pg_url = 'https://www.viki.com/explore?country=korea&page=%s' %pg_num\n",
    "    res = requests.get(KD_pg_url, headers=headers)\n",
    "    soup = BeautifulSoup(res.content, 'lxml')\n",
    "\n",
    "    s_page = soup.find_all('a', {'class':'thumb-title strong'})\n",
    "    for item in s_page:\n",
    "        show = {}\n",
    "        show['title'] = item.text.strip()\n",
    "        show['url'] = 'https://www.viki.com'+ item.attrs['href']\n",
    "        shows.append(show)\n",
    "\n",
    "    time.sleep(1)\n",
    "k_titles = pd.DataFrame(shows)"
   ]
  },
  {
   "cell_type": "code",
   "execution_count": null,
   "metadata": {},
   "outputs": [],
   "source": [
    "# pull out container ids\n",
    "k_titles['container']= k_titles['url'].map(lambda x: re.findall('[tv]\\/(.+?)\\-', x)[0])"
   ]
  },
  {
   "cell_type": "code",
   "execution_count": null,
   "metadata": {},
   "outputs": [],
   "source": [
    "# Add show rating and # ratings\n",
    "k_titles['rating'] = ''\n",
    "k_titles['# ratings']= ''"
   ]
  },
  {
   "cell_type": "code",
   "execution_count": null,
   "metadata": {},
   "outputs": [],
   "source": [
    "k_titles.tail()"
   ]
  },
  {
   "cell_type": "markdown",
   "metadata": {},
   "source": [
    "## Clean Data "
   ]
  },
  {
   "cell_type": "code",
   "execution_count": null,
   "metadata": {
    "scrolled": true
   },
   "outputs": [],
   "source": [
    "# Drop the shows that are not tv-series\n",
    "k_titles = k_titles[~k_titles.url.str.contains(\"movies\")]\n",
    "k_titles = k_titles[~k_titles.url.str.contains(\"creators\")]\n",
    "k_titles.reset_index(drop=True, inplace=True)"
   ]
  },
  {
   "cell_type": "code",
   "execution_count": null,
   "metadata": {},
   "outputs": [],
   "source": [
    "# Find show ratings and # of ratings\n",
    "for row in range(len(k_titles['container'])):\n",
    "    url='https://api.viki.io/v4/containers/%s.json?app=100000a' %k_titles['container'][row]\n",
    "    res = requests.get(url, headers= headers)\n",
    "    json_pg = res.json()\n",
    "    \n",
    "    k_titles.loc[row,'rating']= json_pg['review_stats']['average_rating']\n",
    "    k_titles.loc[row,'# ratings']= json_pg['review_stats']['count']\n",
    "    time.sleep(1)"
   ]
  },
  {
   "cell_type": "code",
   "execution_count": null,
   "metadata": {},
   "outputs": [],
   "source": [
    "k_titles.tail()"
   ]
  },
  {
   "cell_type": "code",
   "execution_count": null,
   "metadata": {},
   "outputs": [],
   "source": [
    "k_titles.to_csv('./data/k_titles.csv', index=False)"
   ]
  },
  {
   "cell_type": "markdown",
   "metadata": {},
   "source": [
    "## Scrape show pages for user ratings"
   ]
  },
  {
   "cell_type": "code",
   "execution_count": 4,
   "metadata": {},
   "outputs": [],
   "source": [
    "k_titles = pd.read_csv('./data/k_titles.csv')"
   ]
  },
  {
   "cell_type": "code",
   "execution_count": 5,
   "metadata": {},
   "outputs": [
    {
     "data": {
      "text/html": [
       "<div>\n",
       "<style scoped>\n",
       "    .dataframe tbody tr th:only-of-type {\n",
       "        vertical-align: middle;\n",
       "    }\n",
       "\n",
       "    .dataframe tbody tr th {\n",
       "        vertical-align: top;\n",
       "    }\n",
       "\n",
       "    .dataframe thead th {\n",
       "        text-align: right;\n",
       "    }\n",
       "</style>\n",
       "<table border=\"1\" class=\"dataframe\">\n",
       "  <thead>\n",
       "    <tr style=\"text-align: right;\">\n",
       "      <th></th>\n",
       "      <th>title</th>\n",
       "      <th>url</th>\n",
       "      <th>container</th>\n",
       "      <th>rating</th>\n",
       "      <th># ratings</th>\n",
       "    </tr>\n",
       "  </thead>\n",
       "  <tbody>\n",
       "    <tr>\n",
       "      <th>0</th>\n",
       "      <td>Thirty But Seventeen</td>\n",
       "      <td>https://www.viki.com/tv/36109c-thirty-but-seve...</td>\n",
       "      <td>36109c</td>\n",
       "      <td>9.58</td>\n",
       "      <td>7368</td>\n",
       "    </tr>\n",
       "    <tr>\n",
       "      <th>1</th>\n",
       "      <td>Fates and Furies</td>\n",
       "      <td>https://www.viki.com/tv/36240c-fates-and-furies</td>\n",
       "      <td>36240c</td>\n",
       "      <td>9.14</td>\n",
       "      <td>1401</td>\n",
       "    </tr>\n",
       "    <tr>\n",
       "      <th>2</th>\n",
       "      <td>The Last Empress</td>\n",
       "      <td>https://www.viki.com/tv/36241c-the-last-empress</td>\n",
       "      <td>36241c</td>\n",
       "      <td>9.45</td>\n",
       "      <td>3858</td>\n",
       "    </tr>\n",
       "    <tr>\n",
       "      <th>3</th>\n",
       "      <td>Encounter</td>\n",
       "      <td>https://www.viki.com/tv/36239c-encounter</td>\n",
       "      <td>36239c</td>\n",
       "      <td>9.59</td>\n",
       "      <td>5436</td>\n",
       "    </tr>\n",
       "    <tr>\n",
       "      <th>4</th>\n",
       "      <td>My Strange Hero</td>\n",
       "      <td>https://www.viki.com/tv/36330c-my-strange-hero</td>\n",
       "      <td>36330c</td>\n",
       "      <td>9.56</td>\n",
       "      <td>2239</td>\n",
       "    </tr>\n",
       "  </tbody>\n",
       "</table>\n",
       "</div>"
      ],
      "text/plain": [
       "                  title                                                url  \\\n",
       "0  Thirty But Seventeen  https://www.viki.com/tv/36109c-thirty-but-seve...   \n",
       "1      Fates and Furies    https://www.viki.com/tv/36240c-fates-and-furies   \n",
       "2      The Last Empress    https://www.viki.com/tv/36241c-the-last-empress   \n",
       "3             Encounter           https://www.viki.com/tv/36239c-encounter   \n",
       "4       My Strange Hero     https://www.viki.com/tv/36330c-my-strange-hero   \n",
       "\n",
       "  container  rating  # ratings  \n",
       "0    36109c    9.58       7368  \n",
       "1    36240c    9.14       1401  \n",
       "2    36241c    9.45       3858  \n",
       "3    36239c    9.59       5436  \n",
       "4    36330c    9.56       2239  "
      ]
     },
     "execution_count": 5,
     "metadata": {},
     "output_type": "execute_result"
    }
   ],
   "source": [
    "k_titles.head()"
   ]
  },
  {
   "cell_type": "code",
   "execution_count": null,
   "metadata": {},
   "outputs": [],
   "source": [
    "url3='https://api.viki.io/v4/containers/36239c/reviews.json?sort=review_rank&direction=desc&per_page=10&page=1&app=100000a' \n",
    "res = requests.get(url3, headers= headers)\n",
    "json_pg = res.json()\n",
    "json_pg['more']"
   ]
  },
  {
   "cell_type": "markdown",
   "metadata": {},
   "source": [
    "### Access to viki api"
   ]
  },
  {
   "cell_type": "markdown",
   "metadata": {},
   "source": [
    "https://api.viki.io/v4/containers/36109c/reviews.json?sort=review_rank&direction=desc&per_page=20&page=3&has_review_note=1&app=100000a"
   ]
  },
  {
   "cell_type": "markdown",
   "metadata": {},
   "source": [
    "*** key 'more' indicates if there are more pages boolean ***"
   ]
  },
  {
   "cell_type": "code",
   "execution_count": 13,
   "metadata": {},
   "outputs": [],
   "source": [
    "ratings = []\n",
    "\n",
    "for row in range(len(k_titles['container'])):\n",
    "\n",
    "    pg_nums =1\n",
    "\n",
    "    while True:\n",
    "        url1='https://api.viki.io/v4/containers/%s/reviews.json?sort=review_rank&direction=desc&per_page=10&page=%s&app=100000a' %(row, pg_nums)\n",
    "        res = requests.get(url1, headers= headers)\n",
    "        json_pg = res.json()\n",
    "        next_pg = json_pg['more']\n",
    "\n",
    "        for row in json_pg['response']:\n",
    "            rating = {}\n",
    "            rating['title'] = k_titles['title'][0]\n",
    "            rating['user'] = row['user']['username']\n",
    "            rating['rating'] = row['user_content_rating']\n",
    "            ratings.append(rating)\n",
    "            \n",
    "        pg_nums += 1\n",
    "\n",
    "        time.sleep(1)\n",
    "\n",
    "        if next_pg != True:\n",
    "            break"
   ]
  },
  {
   "cell_type": "code",
   "execution_count": 15,
   "metadata": {},
   "outputs": [
    {
     "name": "stdout",
     "output_type": "stream",
     "text": [
      "2287\n",
      "2287\n"
     ]
    }
   ],
   "source": [
    "show_rates = pd.DataFrame(ratings)\n",
    "print(show_rates.shape[0])\n",
    "print(show_rates['user'].nunique())"
   ]
  },
  {
   "cell_type": "code",
   "execution_count": null,
   "metadata": {},
   "outputs": [],
   "source": [
    "k_titles.to_csv('./data/k_ratings.csv', index=False)"
   ]
  },
  {
   "cell_type": "markdown",
   "metadata": {},
   "source": [
    "### Step 2: Using the show URL, scrape each show page and get user ratings"
   ]
  },
  {
   "cell_type": "code",
   "execution_count": null,
   "metadata": {},
   "outputs": [],
   "source": [
    "k_titles = pd.read_csv('./data/k_titles.csv')"
   ]
  },
  {
   "cell_type": "code",
   "execution_count": null,
   "metadata": {},
   "outputs": [],
   "source": [
    "show_url = k_titles['url'][5] + '#modal-review-see-all'\n",
    "\n",
    "# use selenium webdriver as library that acts as a \n",
    "# headless browser to access modal window\n",
    "driver = webdriver.Chrome(chrome_options=opts)\n",
    "driver.implicitly_wait(30)\n",
    "driver.get(show_url)\n",
    "test = []"
   ]
  },
  {
   "cell_type": "code",
   "execution_count": null,
   "metadata": {},
   "outputs": [],
   "source": [
    "for i in range(3428):\n",
    "    time.sleep(3)\n",
    "    soup_level1=BeautifulSoup(driver.page_source, 'lxml')\n",
    "\n",
    "    table = soup_level1.find_all('ul',{'class':'media-list'})\n",
    "    for row in table[2].find_all('li',{'class':'media'}):\n",
    "        review = {}\n",
    "        review['title'] = k_titles['title'][5]\n",
    "        review['user'] = row.find('a').attrs['href'][7:]\n",
    "        review['rating'] = row.find('span', {'class':'strong'}).text\n",
    "        test.append(review)\n",
    "            \n",
    "    driver.find_element_by_partial_link_text('Next').click()\n"
   ]
  },
  {
   "cell_type": "code",
   "execution_count": null,
   "metadata": {},
   "outputs": [],
   "source": [
    "review_6 = pd.DataFrame(test)\n",
    "print(review_6.shape[0])\n",
    "print(review_6['user'].nunique())\n",
    "# reviews_5 = pd.DataFrame(reviews5)\n",
    "# print(reviews_5.shape[0])\n",
    "# print(reviews_5['user'].nunique())"
   ]
  },
  {
   "cell_type": "code",
   "execution_count": null,
   "metadata": {},
   "outputs": [],
   "source": [
    "# testp"
   ]
  },
  {
   "cell_type": "code",
   "execution_count": null,
   "metadata": {},
   "outputs": [],
   "source": [
    "%%html\n",
    "<style>\n",
    "table {float:left}\n",
    "</style>"
   ]
  },
  {
   "cell_type": "markdown",
   "metadata": {},
   "source": [
    "## scraped reviews\n",
    "|movie|reported|retrieved|%|\n",
    "|---|---|---|--|\n",
    "|review 2 | 7106| 2195| 30.9|\n",
    "|review 1 | 1354| 516| 38.1|\n",
    "|review 3 | 3683| 1545| 41.9|\n",
    "|review 4 | 4850| 1818| 37.5|\n",
    "|review 5 | 2123| 660| 31.1|\n",
    "|review 6 | 34282|||"
   ]
  },
  {
   "cell_type": "code",
   "execution_count": null,
   "metadata": {},
   "outputs": [],
   "source": [
    "518/34282"
   ]
  },
  {
   "cell_type": "code",
   "execution_count": null,
   "metadata": {},
   "outputs": [],
   "source": [
    "#end the Selenium browser session\n",
    "driver.quit()"
   ]
  },
  {
   "cell_type": "code",
   "execution_count": null,
   "metadata": {},
   "outputs": [],
   "source": [
    "review_6.to_csv('./data/show6_reviews.csv')"
   ]
  },
  {
   "cell_type": "code",
   "execution_count": null,
   "metadata": {},
   "outputs": [],
   "source": [
    "reviews = []\n",
    "for show in range(len(shows)):\n",
    "    rest_url = k_titles['url']\n",
    "    new_res = requests.get(rest_url)#modal-review-see-all\n",
    "    soup = BeautifulSoup(new_res.content, 'lxml')\n",
    "\n",
    "    user = soup.find_all('div', {'class':'media-body'})\n",
    "    for item in user:\n",
    "        review = {}\n",
    "        review['user'] = item.find('a').attrs['href'][17:]\n",
    "        show['rating'] = row.find('a').attrs['href'][12:].title()\n",
    "        reviews.append(review)\n",
    "# foods[100:150]"
   ]
  },
  {
   "cell_type": "markdown",
   "metadata": {},
   "source": [
    "### Step 4: Create a pandas DataFrame from your list of foods"
   ]
  },
  {
   "cell_type": "code",
   "execution_count": null,
   "metadata": {},
   "outputs": [],
   "source": [
    "df = pd.DataFrame(reviews)\n",
    "df.head(10)"
   ]
  },
  {
   "cell_type": "markdown",
   "metadata": {},
   "source": [
    "### Step 5: Export to csv\n",
    "\n",
    "**Note:** Don't export the index column from your DataFrame"
   ]
  },
  {
   "cell_type": "code",
   "execution_count": null,
   "metadata": {},
   "outputs": [],
   "source": [
    "filepaths = ['./data/shows_part_1.csv', './data/shows_part_2.csv', './data/shows_part_3.csv','./data/shows_part_4.csv','./data/shows_part_5.csv']\n",
    "df = pd.concat(map(pd.read_csv, filepaths))\n"
   ]
  },
  {
   "cell_type": "code",
   "execution_count": null,
   "metadata": {},
   "outputs": [],
   "source": [
    "df"
   ]
  },
  {
   "cell_type": "code",
   "execution_count": null,
   "metadata": {},
   "outputs": [],
   "source": [
    "df.reset_index(drop=True, inplace=True)"
   ]
  },
  {
   "cell_type": "code",
   "execution_count": null,
   "metadata": {},
   "outputs": [],
   "source": [
    "df.tail()"
   ]
  },
  {
   "cell_type": "code",
   "execution_count": null,
   "metadata": {},
   "outputs": [],
   "source": [
    "df.to_csv('./data/pages_info.csv',index=False)"
   ]
  },
  {
   "cell_type": "code",
   "execution_count": null,
   "metadata": {},
   "outputs": [],
   "source": []
  }
 ],
 "metadata": {
  "kernelspec": {
   "display_name": "Python 3",
   "language": "python",
   "name": "python3"
  },
  "language_info": {
   "codemirror_mode": {
    "name": "ipython",
    "version": 3
   },
   "file_extension": ".py",
   "mimetype": "text/x-python",
   "name": "python",
   "nbconvert_exporter": "python",
   "pygments_lexer": "ipython3",
   "version": "3.6.6"
  }
 },
 "nbformat": 4,
 "nbformat_minor": 2
}
