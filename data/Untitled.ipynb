{
 "cells": [
  {
   "cell_type": "code",
   "execution_count": 1,
   "metadata": {},
   "outputs": [],
   "source": [
    "import pandas as pd"
   ]
  },
  {
   "cell_type": "code",
   "execution_count": 63,
   "metadata": {},
   "outputs": [],
   "source": [
    "tkr= pd.read_csv('./tk_ratings.csv')\n",
    "kr4= pd.read_csv('./k_ratings4.csv')\n",
    "kr3= pd.read_csv('./k_ratings3.csv')\n",
    "kr2= pd.read_csv('./k_ratings2.csv')\n",
    "kr= pd.read_csv('./ratings.csv')"
   ]
  },
  {
   "cell_type": "code",
   "execution_count": 54,
   "metadata": {},
   "outputs": [
    {
     "data": {
      "text/plain": [
       "Just Between Lovers             4794\n",
       "Hwayugi                         4639\n",
       "Doctors                         4592\n",
       "Pinocchio                       3679\n",
       "Moonlight Drawn by Clouds       3585\n",
       "Fight My Way                    3363\n",
       "The Smile Has Left Your Eyes    3210\n",
       "Wok of Love                     1695\n",
       "Come and Hug Me                 1414\n",
       "Children of Nobody               201\n",
       "Name: title, dtype: int64"
      ]
     },
     "execution_count": 54,
     "metadata": {},
     "output_type": "execute_result"
    }
   ],
   "source": [
    "kr2['title'].value_counts()"
   ]
  },
  {
   "cell_type": "code",
   "execution_count": 40,
   "metadata": {},
   "outputs": [
    {
     "data": {
      "text/plain": [
       "Kill Me Heal Me                 4702\n",
       "When Time Stopped               4663\n",
       "Who Are You                     3533\n",
       "Rich Man, Poor Woman            3499\n",
       "Playful Kiss                    3256\n",
       "Shopping King Louie             3127\n",
       "Blood                           2858\n",
       "Dear Fair Lady Kong Shim        2732\n",
       "Master’s Sun                    2566\n",
       "Cheese In The Trap              2511\n",
       "Witch's Love                    2449\n",
       "Lawless Lawyer                  2106\n",
       "Secret Garden                   2089\n",
       "You’re Beautiful                2022\n",
       "School 2017                     1931\n",
       "To the Beautiful You            1912\n",
       "Doctor Stranger                 1886\n",
       "About Time                      1877\n",
       "Wednesday 3:30 PM               1665\n",
       "Remember                        1636\n",
       "Please Come Back, Mister        1592\n",
       "I Hear Your Voice               1590\n",
       "Radio Romance                   1590\n",
       "Coffee Prince                   1581\n",
       "Another Oh Hae Young            1498\n",
       "Oh My Ghostess                  1469\n",
       "Hi! School - Love On            1431\n",
       "Romantic Doctor Kim             1211\n",
       "High Society                    1162\n",
       "I Have a Lover                  1105\n",
       "                                ... \n",
       "Revenge Note 1                   521\n",
       "Full House                       517\n",
       "The Flower in Prison             516\n",
       "Time                             490\n",
       "Hotel King                       463\n",
       "Shining Inheritance              408\n",
       "The Player                       390\n",
       "Coffee, Do Me a Favor            383\n",
       "Dong Yi                          367\n",
       "Jewel in the Palace              306\n",
       "The Ghost Detective              304\n",
       "Marry Me Now                     303\n",
       "The Return of Superman           239\n",
       "Feel Good To Die                 200\n",
       "2 Days and 1 Night               187\n",
       "The Best Chicken                 186\n",
       "The Real Men 300                 120\n",
       "Law of the Jungle                115\n",
       "Jang Geum, Oh My Grandma         100\n",
       "UNDER NINETEEN                    98\n",
       "Jumong                            98\n",
       "A Hundred Years' Inheritance      88\n",
       "The King of Mask Singer           87\n",
       "Home Alone                        67\n",
       "Wind-bell                         58\n",
       "My Little Old Boy                 42\n",
       "Less than Evil                    42\n",
       "Little House in the Forest        40\n",
       "Liver or Die                      25\n",
       "THE FAN                           24\n",
       "Name: title, Length: 90, dtype: int64"
      ]
     },
     "execution_count": 40,
     "metadata": {},
     "output_type": "execute_result"
    }
   ],
   "source": [
    "kr3['title'].value_counts()"
   ]
  },
  {
   "cell_type": "code",
   "execution_count": 42,
   "metadata": {},
   "outputs": [
    {
     "data": {
      "text/plain": [
       "90"
      ]
     },
     "execution_count": 42,
     "metadata": {},
     "output_type": "execute_result"
    }
   ],
   "source": [
    "len(kr3['title'].unique().tolist())"
   ]
  },
  {
   "cell_type": "code",
   "execution_count": 50,
   "metadata": {},
   "outputs": [
    {
     "data": {
      "text/plain": [
       "406"
      ]
     },
     "execution_count": 50,
     "metadata": {},
     "output_type": "execute_result"
    }
   ],
   "source": [
    "len(kr4['title'].unique().tolist())"
   ]
  },
  {
   "cell_type": "code",
   "execution_count": 41,
   "metadata": {},
   "outputs": [
    {
     "data": {
      "text/plain": [
       "She Was Pretty                         7744\n",
       "Moorim School                          3851\n",
       "Splash Splash Love                     3834\n",
       "Cheer Up!                              3587\n",
       "Lucky Romance                          2200\n",
       "Beautiful Mind                         2137\n",
       "BTS Comeback Show                      1900\n",
       "Chicago Typewriter                     1865\n",
       "Mother                                 1856\n",
       "It’s Okay, That’s Love                 1821\n",
       "Marriage Contract                      1553\n",
       "Mirror of the Witch                    1540\n",
       "The King Loves                         1357\n",
       "Queen for Seven Days                   1337\n",
       "Black Knight                           1247\n",
       "Page Turner                            1203\n",
       "The Great Doctor                       1196\n",
       "Secret Love                            1170\n",
       "The Innocent Man                       1099\n",
       "Melo Holic                             1068\n",
       "Defendant                               993\n",
       "Chief Kim                               949\n",
       "Rooftop Prince                          893\n",
       "Gu Family Book                          879\n",
       "Heartstrings                            879\n",
       "Entertainer                             877\n",
       "Dokgo Rewind                            875\n",
       "Jackpot                                 835\n",
       "Go Back Couple                          815\n",
       "The Scholar Who Walks the Night         787\n",
       "                                       ... \n",
       "Air City                                 10\n",
       "Dandelion Family                         10\n",
       "The Secret Lover                          9\n",
       "My Beloved Sister                         9\n",
       "Battle Trip                               9\n",
       "The Manager                               9\n",
       "Spotlight                                 8\n",
       "Surgeon Bong Dal Hee                      8\n",
       "2018 SBS Entertainment Awards             8\n",
       "2018 SBS Drama Awards                     7\n",
       "2018 MBC Drama Awards                     6\n",
       "2014 Idol Star Athletics Champio...       6\n",
       "General Hospital 2                        6\n",
       "Eat in Style                              6\n",
       "Scarlet Letter                            6\n",
       "2015 Idol Star Athletics Champio...       6\n",
       "Gloria                                    5\n",
       "School Attack 2018                        5\n",
       "Love Cells 2                              5\n",
       "Shin Don                                  5\n",
       "Newlywed Diary S2                         4\n",
       "Music Bank K-Chart                        4\n",
       "Pets GO! Doggy Trip                       3\n",
       "2018 KBS Drama Awards                     3\n",
       "Section TV Entertainment News             3\n",
       "Again, My Love                            2\n",
       "2018 KBS Entertainment Awards             2\n",
       "E-news Exclusive                          2\n",
       "2018 KBS Drama Special                    2\n",
       "Yu Huiyeol’s Sketchbook                   1\n",
       "Name: title, Length: 406, dtype: int64"
      ]
     },
     "execution_count": 41,
     "metadata": {},
     "output_type": "execute_result"
    }
   ],
   "source": [
    "kr4['title'].value_counts()"
   ]
  },
  {
   "cell_type": "code",
   "execution_count": 65,
   "metadata": {},
   "outputs": [
    {
     "data": {
      "text/plain": [
       "Hwayugi                            2000\n",
       "Who Are You                        2000\n",
       "What’s Wrong With Secretary Kim    2000\n",
       "Oh My Venus                        2000\n",
       "Blood                              2000\n",
       "W                                  2000\n",
       "Healer                             2000\n",
       "Descendants of the Sun             2000\n",
       "The Legend of the Blue Sea         2000\n",
       "Encounter                          2000\n",
       "Fight My Way                       2000\n",
       "Strong Woman Do Bong Soon          2000\n",
       "Just Between Lovers                2000\n",
       "The Smile Has Left Your Eyes       2000\n",
       "Doctors                            2000\n",
       "Playful Kiss                       2000\n",
       "I Am Not a Robot                   2000\n",
       "Moonlight Drawn by Clouds          2000\n",
       "Because This Is My First Life      2000\n",
       "Weightlifting Fairy Kim Bok Joo    2000\n",
       "Boys Over Flowers                  2000\n",
       "Suspicious Partner                 2000\n",
       "While You Were Sleeping            2000\n",
       "Hwarang                            2000\n",
       "When Time Stopped                  2000\n",
       "Secret Garden                      2000\n",
       "Witch's Love                       2000\n",
       "My Love From the Star              2000\n",
       "Kill Me Heal Me                    2000\n",
       "Rich Man, Poor Woman               2000\n",
       "                                   ... \n",
       "Wok of Love                        1700\n",
       "Radio Romance                      1592\n",
       "Coffee Prince                      1582\n",
       "Hi! School - Love On               1432\n",
       "Come and Hug Me                    1419\n",
       "Running Man                        1088\n",
       "The Moon Embracing the Sun         1070\n",
       "Cunning Single Lady                1010\n",
       "Love Alert                         1007\n",
       "Goong                               913\n",
       "Revenge Note 2                      832\n",
       "Devilish Joy                        791\n",
       "My Strange Hero                     764\n",
       "Master in the House                 667\n",
       "Mama Fairy and the Woodcutter       608\n",
       "Fates and Furies                    600\n",
       "Revenge Note 1                      527\n",
       "Hotel King                          463\n",
       "Coffee, Do Me a Favor               387\n",
       "Dong Yi                             368\n",
       "The Crowned Clown                   356\n",
       "The Return of Superman              241\n",
       "Children of Nobody                  205\n",
       "Feel Good To Die                    203\n",
       "The Best Chicken                    195\n",
       "My Only One                         180\n",
       "A Pledge to God                     155\n",
       "My Healing Love                     102\n",
       "UNDER NINETEEN                      101\n",
       "A Hundred Years' Inheritance         89\n",
       "Name: title, Length: 70, dtype: int64"
      ]
     },
     "execution_count": 65,
     "metadata": {},
     "output_type": "execute_result"
    }
   ],
   "source": [
    "kr['title'].value_counts()"
   ]
  },
  {
   "cell_type": "code",
   "execution_count": 64,
   "metadata": {},
   "outputs": [
    {
     "data": {
      "text/plain": [
       "70"
      ]
     },
     "execution_count": 64,
     "metadata": {},
     "output_type": "execute_result"
    }
   ],
   "source": [
    "len(kr['title'].value_counts())"
   ]
  },
  {
   "cell_type": "code",
   "execution_count": null,
   "metadata": {},
   "outputs": [],
   "source": []
  }
 ],
 "metadata": {
  "kernelspec": {
   "display_name": "Python 3",
   "language": "python",
   "name": "python3"
  },
  "language_info": {
   "codemirror_mode": {
    "name": "ipython",
    "version": 3
   },
   "file_extension": ".py",
   "mimetype": "text/x-python",
   "name": "python",
   "nbconvert_exporter": "python",
   "pygments_lexer": "ipython3",
   "version": "3.6.6"
  }
 },
 "nbformat": 4,
 "nbformat_minor": 2
}
