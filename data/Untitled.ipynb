{
 "cells": [
  {
   "cell_type": "code",
   "execution_count": 1,
   "metadata": {},
   "outputs": [],
   "source": [
    "import pandas as pd"
   ]
  },
  {
   "cell_type": "code",
   "execution_count": 2,
   "metadata": {},
   "outputs": [],
   "source": [
    "kr= pd.read_csv('./ratings.csv')"
   ]
  },
  {
   "cell_type": "code",
   "execution_count": 3,
   "metadata": {},
   "outputs": [
    {
     "data": {
      "text/plain": [
       "Tempted                            2000\n",
       "Blood                              2000\n",
       "Cheese In The Trap                 2000\n",
       "While You Were Sleeping            2000\n",
       "Just Between Lovers                2000\n",
       "Encounter                          2000\n",
       "Descendants of the Sun             2000\n",
       "Rich Man, Poor Woman               2000\n",
       "Moonlight Drawn by Clouds          2000\n",
       "The Smile Has Left Your Eyes       2000\n",
       "The Legend of the Blue Sea         2000\n",
       "Pinocchio                          2000\n",
       "Because This Is My First Life      2000\n",
       "Secret Garden                      2000\n",
       "Hwarang                            2000\n",
       "When Time Stopped                  2000\n",
       "Doctors                            2000\n",
       "Healer                             2000\n",
       "Weightlifting Fairy Kim Bok Joo    2000\n",
       "Witch's Love                       2000\n",
       "Fated to Love You                  2000\n",
       "I Am Not a Robot                   2000\n",
       "Boys Over Flowers                  2000\n",
       "Playful Kiss                       2000\n",
       "Suspicious Partner                 2000\n",
       "Strong Woman Do Bong Soon          2000\n",
       "Hwayugi                            2000\n",
       "Who Are You                        2000\n",
       "Dear Fair Lady Kong Shim           2000\n",
       "Shopping King Louie                2000\n",
       "                                   ... \n",
       "Shining Inheritance                 410\n",
       "The Player                          393\n",
       "Coffee, Do Me a Favor               391\n",
       "Dong Yi                             368\n",
       "The Crowned Clown                   367\n",
       "The Ghost Detective                 307\n",
       "Jewel in the Palace                 307\n",
       "Marry Me Now                        305\n",
       "The Return of Superman              240\n",
       "Children of Nobody                  210\n",
       "Feel Good To Die                    203\n",
       "The Best Chicken                    200\n",
       "2 Days and 1 Night                  187\n",
       "My Only One                         181\n",
       "A Pledge to God                     156\n",
       "The Real Men 300                    122\n",
       "Law of the Jungle                   115\n",
       "UNDER NINETEEN                      103\n",
       "My Healing Love                     102\n",
       "Jang Geum, Oh My Grandma            101\n",
       "Jumong                               98\n",
       "A Hundred Years' Inheritance         89\n",
       "The King of Mask Singer              87\n",
       "Wind-bell                            73\n",
       "Home Alone                           68\n",
       "Little House in the Forest           44\n",
       "Less than Evil                       44\n",
       "My Little Old Boy                    43\n",
       "Liver or Die                         28\n",
       "THE FAN                              25\n",
       "Name: title, Length: 130, dtype: int64"
      ]
     },
     "execution_count": 3,
     "metadata": {},
     "output_type": "execute_result"
    }
   ],
   "source": [
    "kr['title'].value_counts()"
   ]
  },
  {
   "cell_type": "code",
   "execution_count": 4,
   "metadata": {},
   "outputs": [
    {
     "data": {
      "text/plain": [
       "130"
      ]
     },
     "execution_count": 4,
     "metadata": {},
     "output_type": "execute_result"
    }
   ],
   "source": [
    "len(kr['title'].value_counts())"
   ]
  },
  {
   "cell_type": "code",
   "execution_count": null,
   "metadata": {},
   "outputs": [],
   "source": []
  }
 ],
 "metadata": {
  "kernelspec": {
   "display_name": "Python 3",
   "language": "python",
   "name": "python3"
  },
  "language_info": {
   "codemirror_mode": {
    "name": "ipython",
    "version": 3
   },
   "file_extension": ".py",
   "mimetype": "text/x-python",
   "name": "python",
   "nbconvert_exporter": "python",
   "pygments_lexer": "ipython3",
   "version": "3.6.5"
  }
 },
 "nbformat": 4,
 "nbformat_minor": 2
}
