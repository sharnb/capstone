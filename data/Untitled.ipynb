{
 "cells": [
  {
   "cell_type": "code",
   "execution_count": 1,
   "metadata": {},
   "outputs": [],
   "source": [
    "import pandas as pd"
   ]
  },
  {
   "cell_type": "code",
   "execution_count": 2,
   "metadata": {},
   "outputs": [],
   "source": [
    "kr= pd.read_csv('./ratings.csv')"
   ]
  },
  {
   "cell_type": "code",
   "execution_count": 7,
   "metadata": {},
   "outputs": [
    {
     "data": {
      "text/plain": [
       "['Thirty But Seventeen',\n",
       " 'Fates and Furies',\n",
       " 'The Last Empress',\n",
       " 'Encounter',\n",
       " 'My Strange Hero',\n",
       " 'What’s Wrong With Secretary Kim',\n",
       " 'Devilish Joy',\n",
       " 'I Am Not a Robot',\n",
       " 'Suspicious Partner',\n",
       " 'My Only One',\n",
       " 'W',\n",
       " 'The Crowned Clown',\n",
       " 'Running Man',\n",
       " 'Strong Woman Do Bong Soon',\n",
       " 'The Legend of the Blue Sea',\n",
       " 'While You Were Sleeping',\n",
       " 'Descendants of the Sun',\n",
       " 'Where Stars Land',\n",
       " 'Oh My Venus',\n",
       " 'A Pledge to God',\n",
       " 'Hwarang',\n",
       " 'My Love From the Star',\n",
       " 'Revenge Note 2',\n",
       " 'Boys Over Flowers',\n",
       " 'Tempted',\n",
       " 'Healer',\n",
       " 'Father Is Strange',\n",
       " 'Fated to Love You',\n",
       " 'My Healing Love',\n",
       " 'Because This Is My First Life',\n",
       " 'The Smile Has Left Your Eyes',\n",
       " 'Pinocchio',\n",
       " 'Just Between Lovers',\n",
       " 'Wok of Love',\n",
       " 'Fight My Way',\n",
       " 'Doctors',\n",
       " 'Moonlight Drawn by Clouds',\n",
       " 'Hwayugi',\n",
       " 'Come and Hug Me',\n",
       " 'Children of Nobody',\n",
       " 'When Time Stopped',\n",
       " 'Secret Garden',\n",
       " 'Coffee, Do Me a Favor',\n",
       " 'Rich Man, Poor Woman',\n",
       " 'Feel Good To Die',\n",
       " 'Blood',\n",
       " 'Goong',\n",
       " 'UNDER NINETEEN',\n",
       " 'School 2017']"
      ]
     },
     "execution_count": 7,
     "metadata": {},
     "output_type": "execute_result"
    }
   ],
   "source": [
    "kr['title'].unique().tolist()"
   ]
  },
  {
   "cell_type": "code",
   "execution_count": 8,
   "metadata": {},
   "outputs": [
    {
     "data": {
      "text/plain": [
       "Strong Woman Do Bong Soon          16616\n",
       "W                                  13771\n",
       "Descendants of the Sun             13442\n",
       "What’s Wrong With Secretary Kim    10949\n",
       "The Legend of the Blue Sea          9733\n",
       "While You Were Sleeping             9081\n",
       "I Am Not a Robot                    8058\n",
       "Oh My Venus                         7842\n",
       "Boys Over Flowers                   7653\n",
       "Hwarang                             7513\n",
       "Because This Is My First Life       5683\n",
       "My Love From the Star               5400\n",
       "Healer                              4918\n",
       "Just Between Lovers                 4811\n",
       "When Time Stopped                   4684\n",
       "Hwayugi                             4659\n",
       "Doctors                             4599\n",
       "Pinocchio                           3686\n",
       "Moonlight Drawn by Clouds           3595\n",
       "Rich Man, Poor Woman                3509\n",
       "Suspicious Partner                  3460\n",
       "Fight My Way                        3372\n",
       "The Smile Has Left Your Eyes        3241\n",
       "Tempted                             3040\n",
       "Fated to Love You                   3002\n",
       "Blood                               2876\n",
       "Thirty But Seventeen                2455\n",
       "Encounter                           2358\n",
       "Secret Garden                       2108\n",
       "School 2017                         1940\n",
       "Where Stars Land                    1829\n",
       "Father Is Strange                   1781\n",
       "The Last Empress                    1767\n",
       "Wok of Love                         1702\n",
       "Come and Hug Me                     1419\n",
       "Running Man                         1088\n",
       "Goong                                916\n",
       "Devilish Joy                         846\n",
       "Revenge Note 2                       840\n",
       "My Strange Hero                      791\n",
       "Fates and Furies                     617\n",
       "Coffee, Do Me a Favor                393\n",
       "The Crowned Clown                    371\n",
       "Children of Nobody                   213\n",
       "Feel Good To Die                     205\n",
       "A Pledge to God                      157\n",
       "UNDER NINETEEN                       103\n",
       "My Healing Love                      102\n",
       "My Only One                            1\n",
       "Name: title, dtype: int64"
      ]
     },
     "execution_count": 8,
     "metadata": {},
     "output_type": "execute_result"
    }
   ],
   "source": [
    "kr['title'].value_counts()"
   ]
  },
  {
   "cell_type": "code",
   "execution_count": null,
   "metadata": {},
   "outputs": [],
   "source": []
  }
 ],
 "metadata": {
  "kernelspec": {
   "display_name": "Python 3",
   "language": "python",
   "name": "python3"
  },
  "language_info": {
   "codemirror_mode": {
    "name": "ipython",
    "version": 3
   },
   "file_extension": ".py",
   "mimetype": "text/x-python",
   "name": "python",
   "nbconvert_exporter": "python",
   "pygments_lexer": "ipython3",
   "version": "3.6.5"
  }
 },
 "nbformat": 4,
 "nbformat_minor": 2
}
