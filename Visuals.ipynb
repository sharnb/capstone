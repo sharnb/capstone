{
 "cells": [
  {
   "cell_type": "markdown",
   "metadata": {},
   "source": [
    "# Data Visualizations\n",
    "> Author: Sharnique Beck"
   ]
  },
  {
   "cell_type": "code",
   "execution_count": 2,
   "metadata": {},
   "outputs": [],
   "source": [
    "import pandas as pd\n",
    "import matplotlib.pyplot as plt\n",
    "\n",
    "%matplotlib inline"
   ]
  },
  {
   "cell_type": "code",
   "execution_count": 3,
   "metadata": {},
   "outputs": [],
   "source": [
    "shows = pd.read_csv('./data/k_titles.csv')\n",
    "ratings = pd.read_csv('./data/ratings_data.csv')\n",
    "content = pd.read_csv('./data/show_info.csv')"
   ]
  },
  {
   "cell_type": "code",
   "execution_count": 3,
   "metadata": {},
   "outputs": [
    {
     "data": {
      "text/html": [
       "<div>\n",
       "<style scoped>\n",
       "    .dataframe tbody tr th:only-of-type {\n",
       "        vertical-align: middle;\n",
       "    }\n",
       "\n",
       "    .dataframe tbody tr th {\n",
       "        vertical-align: top;\n",
       "    }\n",
       "\n",
       "    .dataframe thead th {\n",
       "        text-align: right;\n",
       "    }\n",
       "</style>\n",
       "<table border=\"1\" class=\"dataframe\">\n",
       "  <thead>\n",
       "    <tr style=\"text-align: right;\">\n",
       "      <th></th>\n",
       "      <th>title</th>\n",
       "      <th>url</th>\n",
       "      <th>container</th>\n",
       "      <th>rating</th>\n",
       "      <th># ratings</th>\n",
       "    </tr>\n",
       "  </thead>\n",
       "  <tbody>\n",
       "    <tr>\n",
       "      <th>0</th>\n",
       "      <td>Thirty But Seventeen</td>\n",
       "      <td>https://www.viki.com/tv/36109c-thirty-but-seve...</td>\n",
       "      <td>36109c</td>\n",
       "      <td>9.58</td>\n",
       "      <td>7368</td>\n",
       "    </tr>\n",
       "    <tr>\n",
       "      <th>1</th>\n",
       "      <td>Fates and Furies</td>\n",
       "      <td>https://www.viki.com/tv/36240c-fates-and-furies</td>\n",
       "      <td>36240c</td>\n",
       "      <td>9.14</td>\n",
       "      <td>1401</td>\n",
       "    </tr>\n",
       "    <tr>\n",
       "      <th>2</th>\n",
       "      <td>The Last Empress</td>\n",
       "      <td>https://www.viki.com/tv/36241c-the-last-empress</td>\n",
       "      <td>36241c</td>\n",
       "      <td>9.45</td>\n",
       "      <td>3858</td>\n",
       "    </tr>\n",
       "    <tr>\n",
       "      <th>3</th>\n",
       "      <td>Encounter</td>\n",
       "      <td>https://www.viki.com/tv/36239c-encounter</td>\n",
       "      <td>36239c</td>\n",
       "      <td>9.59</td>\n",
       "      <td>5436</td>\n",
       "    </tr>\n",
       "    <tr>\n",
       "      <th>4</th>\n",
       "      <td>My Strange Hero</td>\n",
       "      <td>https://www.viki.com/tv/36330c-my-strange-hero</td>\n",
       "      <td>36330c</td>\n",
       "      <td>9.56</td>\n",
       "      <td>2239</td>\n",
       "    </tr>\n",
       "  </tbody>\n",
       "</table>\n",
       "</div>"
      ],
      "text/plain": [
       "                  title                                                url  \\\n",
       "0  Thirty But Seventeen  https://www.viki.com/tv/36109c-thirty-but-seve...   \n",
       "1      Fates and Furies    https://www.viki.com/tv/36240c-fates-and-furies   \n",
       "2      The Last Empress    https://www.viki.com/tv/36241c-the-last-empress   \n",
       "3             Encounter           https://www.viki.com/tv/36239c-encounter   \n",
       "4       My Strange Hero     https://www.viki.com/tv/36330c-my-strange-hero   \n",
       "\n",
       "  container  rating  # ratings  \n",
       "0    36109c    9.58       7368  \n",
       "1    36240c    9.14       1401  \n",
       "2    36241c    9.45       3858  \n",
       "3    36239c    9.59       5436  \n",
       "4    36330c    9.56       2239  "
      ]
     },
     "execution_count": 3,
     "metadata": {},
     "output_type": "execute_result"
    }
   ],
   "source": [
    "shows.head()"
   ]
  },
  {
   "cell_type": "code",
   "execution_count": 6,
   "metadata": {},
   "outputs": [
    {
     "data": {
      "text/html": [
       "<div>\n",
       "<style scoped>\n",
       "    .dataframe tbody tr th:only-of-type {\n",
       "        vertical-align: middle;\n",
       "    }\n",
       "\n",
       "    .dataframe tbody tr th {\n",
       "        vertical-align: top;\n",
       "    }\n",
       "\n",
       "    .dataframe thead th {\n",
       "        text-align: right;\n",
       "    }\n",
       "</style>\n",
       "<table border=\"1\" class=\"dataframe\">\n",
       "  <thead>\n",
       "    <tr style=\"text-align: right;\">\n",
       "      <th></th>\n",
       "      <th>rating</th>\n",
       "      <th>title</th>\n",
       "      <th>user</th>\n",
       "      <th>user_id</th>\n",
       "    </tr>\n",
       "  </thead>\n",
       "  <tbody>\n",
       "    <tr>\n",
       "      <th>0</th>\n",
       "      <td>10</td>\n",
       "      <td>Thirty But Seventeen</td>\n",
       "      <td>la_fra</td>\n",
       "      <td>19253</td>\n",
       "    </tr>\n",
       "    <tr>\n",
       "      <th>1</th>\n",
       "      <td>10</td>\n",
       "      <td>W</td>\n",
       "      <td>la_fra</td>\n",
       "      <td>19253</td>\n",
       "    </tr>\n",
       "    <tr>\n",
       "      <th>2</th>\n",
       "      <td>10</td>\n",
       "      <td>Descendants of the Sun</td>\n",
       "      <td>la_fra</td>\n",
       "      <td>19253</td>\n",
       "    </tr>\n",
       "    <tr>\n",
       "      <th>3</th>\n",
       "      <td>10</td>\n",
       "      <td>Fight My Way</td>\n",
       "      <td>la_fra</td>\n",
       "      <td>19253</td>\n",
       "    </tr>\n",
       "    <tr>\n",
       "      <th>4</th>\n",
       "      <td>10</td>\n",
       "      <td>Thirty But Seventeen</td>\n",
       "      <td>jyotikababbar999_688</td>\n",
       "      <td>143260</td>\n",
       "    </tr>\n",
       "  </tbody>\n",
       "</table>\n",
       "</div>"
      ],
      "text/plain": [
       "   rating                   title                  user  user_id\n",
       "0      10    Thirty But Seventeen                la_fra    19253\n",
       "1      10                       W                la_fra    19253\n",
       "2      10  Descendants of the Sun                la_fra    19253\n",
       "3      10            Fight My Way                la_fra    19253\n",
       "4      10    Thirty But Seventeen  jyotikababbar999_688   143260"
      ]
     },
     "execution_count": 6,
     "metadata": {},
     "output_type": "execute_result"
    }
   ],
   "source": [
    "ratings.head()"
   ]
  },
  {
   "cell_type": "code",
   "execution_count": 25,
   "metadata": {},
   "outputs": [
    {
     "data": {
      "text/html": [
       "<div>\n",
       "<style scoped>\n",
       "    .dataframe tbody tr th:only-of-type {\n",
       "        vertical-align: middle;\n",
       "    }\n",
       "\n",
       "    .dataframe tbody tr th {\n",
       "        vertical-align: top;\n",
       "    }\n",
       "\n",
       "    .dataframe thead th {\n",
       "        text-align: right;\n",
       "    }\n",
       "</style>\n",
       "<table border=\"1\" class=\"dataframe\">\n",
       "  <thead>\n",
       "    <tr style=\"text-align: right;\">\n",
       "      <th></th>\n",
       "      <th># episodes</th>\n",
       "      <th>genre</th>\n",
       "      <th>network</th>\n",
       "      <th>rating</th>\n",
       "      <th>s_rating</th>\n",
       "      <th>title</th>\n",
       "      <th>cast</th>\n",
       "    </tr>\n",
       "  </thead>\n",
       "  <tbody>\n",
       "    <tr>\n",
       "      <th>0</th>\n",
       "      <td>32</td>\n",
       "      <td>['23g', '9g', '18g', '6g', '7g']</td>\n",
       "      <td>SBS</td>\n",
       "      <td>9.58</td>\n",
       "      <td>PG-13</td>\n",
       "      <td>Thirty But Seventeen</td>\n",
       "      <td>['Shin Hye Sun', 'Yang Se Jong', 'Ahn Hyo Seop...</td>\n",
       "    </tr>\n",
       "    <tr>\n",
       "      <th>1</th>\n",
       "      <td>36</td>\n",
       "      <td>['18g', '1041g', '23g']</td>\n",
       "      <td>SBS</td>\n",
       "      <td>8.73</td>\n",
       "      <td>PG-13</td>\n",
       "      <td>Fates and Furies</td>\n",
       "      <td>['Joo Sang Wook', 'Lee Min Jung', 'Lee Ki Woo'...</td>\n",
       "    </tr>\n",
       "    <tr>\n",
       "      <th>2</th>\n",
       "      <td>42</td>\n",
       "      <td>['23g', '9g', '18g']</td>\n",
       "      <td>SBS</td>\n",
       "      <td>9.45</td>\n",
       "      <td>PG-13</td>\n",
       "      <td>The Last Empress</td>\n",
       "      <td>['Shin Sung Rok', 'Jang Nara', 'Choi Jin Hyuk'...</td>\n",
       "    </tr>\n",
       "    <tr>\n",
       "      <th>3</th>\n",
       "      <td>16</td>\n",
       "      <td>['18g', '23g']</td>\n",
       "      <td>tvN</td>\n",
       "      <td>9.56</td>\n",
       "      <td>PG-13</td>\n",
       "      <td>Encounter</td>\n",
       "      <td>['Park Bo Gum', 'Song Hye Kyo', 'Jang Seung Jo...</td>\n",
       "    </tr>\n",
       "    <tr>\n",
       "      <th>4</th>\n",
       "      <td>32</td>\n",
       "      <td>['18g', '1041g', '9g', '23g']</td>\n",
       "      <td>SBS</td>\n",
       "      <td>9.55</td>\n",
       "      <td>PG-13</td>\n",
       "      <td>My Strange Hero</td>\n",
       "      <td>['Yoo Seung Ho', 'Jo Bo Ah', 'Kwak Dong Yeon',...</td>\n",
       "    </tr>\n",
       "  </tbody>\n",
       "</table>\n",
       "</div>"
      ],
      "text/plain": [
       "   # episodes                             genre network  rating s_rating  \\\n",
       "0          32  ['23g', '9g', '18g', '6g', '7g']     SBS    9.58    PG-13   \n",
       "1          36           ['18g', '1041g', '23g']     SBS    8.73    PG-13   \n",
       "2          42              ['23g', '9g', '18g']     SBS    9.45    PG-13   \n",
       "3          16                    ['18g', '23g']     tvN    9.56    PG-13   \n",
       "4          32     ['18g', '1041g', '9g', '23g']     SBS    9.55    PG-13   \n",
       "\n",
       "                  title                                               cast  \n",
       "0  Thirty But Seventeen  ['Shin Hye Sun', 'Yang Se Jong', 'Ahn Hyo Seop...  \n",
       "1      Fates and Furies  ['Joo Sang Wook', 'Lee Min Jung', 'Lee Ki Woo'...  \n",
       "2      The Last Empress  ['Shin Sung Rok', 'Jang Nara', 'Choi Jin Hyuk'...  \n",
       "3             Encounter  ['Park Bo Gum', 'Song Hye Kyo', 'Jang Seung Jo...  \n",
       "4       My Strange Hero  ['Yoo Seung Ho', 'Jo Bo Ah', 'Kwak Dong Yeon',...  "
      ]
     },
     "execution_count": 25,
     "metadata": {},
     "output_type": "execute_result"
    }
   ],
   "source": [
    "content.head()"
   ]
  },
  {
   "cell_type": "markdown",
   "metadata": {},
   "source": [
    "### Top 50 users with over 70 reviews"
   ]
  },
  {
   "cell_type": "code",
   "execution_count": 9,
   "metadata": {},
   "outputs": [
    {
     "data": {
      "image/png": "[encoded data removed]",
      "text/plain": [
       "<Figure size 432x288 with 1 Axes>"
      ]
     },
     "metadata": {
      "needs_background": "light"
     },
     "output_type": "display_data"
    }
   ],
   "source": [
    "data['user'].value_counts().head(50).hist(bins=50);"
   ]
  },
  {
   "cell_type": "markdown",
   "metadata": {},
   "source": [
    "### Top 50 shows with over 1900 reviews"
   ]
  },
  {
   "cell_type": "code",
   "execution_count": 22,
   "metadata": {},
   "outputs": [
    {
     "data": {
      "image/png": "[encoded data removed]",
      "text/plain": [
       "<Figure size 432x288 with 1 Axes>"
      ]
     },
     "metadata": {
      "needs_background": "light"
     },
     "output_type": "display_data"
    }
   ],
   "source": [
    "ratings['title'].value_counts().head(49).hist();"
   ]
  },
  {
   "cell_type": "code",
   "execution_count": null,
   "metadata": {},
   "outputs": [
    {
     "data": {
      "text/plain": [
       "<BarContainer object of 624 artists>"
      ]
     },
     "execution_count": 32,
     "metadata": {},
     "output_type": "execute_result"
    }
   ],
   "source": [
    "plt.bar(content['# episodes'],content['# episodes'].value_counts())"
   ]
  },
  {
   "cell_type": "code",
   "execution_count": 13,
   "metadata": {},
   "outputs": [
    {
     "data": {
      "text/plain": [
       "16      140\n",
       "20       71\n",
       "2        37\n",
       "32       33\n",
       "12       30\n",
       "24       22\n",
       "18       21\n",
       "17       21\n",
       "10       19\n",
       "50       17\n",
       "8        16\n",
       "6        13\n",
       "4        12\n",
       "40       10\n",
       "21        8\n",
       "13        8\n",
       "1         8\n",
       "14        7\n",
       "22        6\n",
       "15        6\n",
       "11        6\n",
       "9         6\n",
       "3         6\n",
       "54        5\n",
       "30        5\n",
       "23        5\n",
       "52        5\n",
       "31        4\n",
       "33        3\n",
       "38        3\n",
       "       ... \n",
       "126       1\n",
       "128       1\n",
       "133       1\n",
       "141       1\n",
       "165       1\n",
       "42        1\n",
       "167       1\n",
       "176       1\n",
       "187       1\n",
       "190       1\n",
       "1223      1\n",
       "1242      1\n",
       "95        1\n",
       "83        1\n",
       "81        1\n",
       "79        1\n",
       "77        1\n",
       "76        1\n",
       "74        1\n",
       "68        1\n",
       "63        1\n",
       "62        1\n",
       "57        1\n",
       "51        1\n",
       "49        1\n",
       "48        1\n",
       "46        1\n",
       "44        1\n",
       "239       1\n",
       "0         1\n",
       "Name: # episodes, Length: 83, dtype: int64"
      ]
     },
     "execution_count": 13,
     "metadata": {},
     "output_type": "execute_result"
    }
   ],
   "source": [
    "content['# episodes'].value_counts()"
   ]
  },
  {
   "cell_type": "code",
   "execution_count": null,
   "metadata": {},
   "outputs": [],
   "source": []
  }
 ],
 "metadata": {
  "kernelspec": {
   "display_name": "Python 3",
   "language": "python",
   "name": "python3"
  },
  "language_info": {
   "codemirror_mode": {
    "name": "ipython",
    "version": 3
   },
   "file_extension": ".py",
   "mimetype": "text/x-python",
   "name": "python",
   "nbconvert_exporter": "python",
   "pygments_lexer": "ipython3",
   "version": "3.6.6"
  }
 },
 "nbformat": 4,
 "nbformat_minor": 2
}
