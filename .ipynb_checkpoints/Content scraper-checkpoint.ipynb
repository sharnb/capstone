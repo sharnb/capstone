{
 "cells": [
  {
   "cell_type": "code",
   "execution_count": 1,
   "metadata": {},
   "outputs": [],
   "source": [
    "# Import libaries\n",
    "import pandas as pd\n",
    "import requests\n",
    "import time\n",
    "import re\n",
    "\n",
    "from bs4 import BeautifulSoup"
   ]
  },
  {
   "cell_type": "code",
   "execution_count": 2,
   "metadata": {},
   "outputs": [
    {
     "data": {
      "text/html": [
       "<div>\n",
       "<style scoped>\n",
       "    .dataframe tbody tr th:only-of-type {\n",
       "        vertical-align: middle;\n",
       "    }\n",
       "\n",
       "    .dataframe tbody tr th {\n",
       "        vertical-align: top;\n",
       "    }\n",
       "\n",
       "    .dataframe thead th {\n",
       "        text-align: right;\n",
       "    }\n",
       "</style>\n",
       "<table border=\"1\" class=\"dataframe\">\n",
       "  <thead>\n",
       "    <tr style=\"text-align: right;\">\n",
       "      <th></th>\n",
       "      <th>title</th>\n",
       "      <th>url</th>\n",
       "      <th>container</th>\n",
       "      <th>rating</th>\n",
       "      <th># ratings</th>\n",
       "    </tr>\n",
       "  </thead>\n",
       "  <tbody>\n",
       "    <tr>\n",
       "      <th>0</th>\n",
       "      <td>Thirty But Seventeen</td>\n",
       "      <td>https://www.viki.com/tv/36109c-thirty-but-seve...</td>\n",
       "      <td>36109c</td>\n",
       "      <td>9.58</td>\n",
       "      <td>7368</td>\n",
       "    </tr>\n",
       "    <tr>\n",
       "      <th>1</th>\n",
       "      <td>Fates and Furies</td>\n",
       "      <td>https://www.viki.com/tv/36240c-fates-and-furies</td>\n",
       "      <td>36240c</td>\n",
       "      <td>9.14</td>\n",
       "      <td>1401</td>\n",
       "    </tr>\n",
       "    <tr>\n",
       "      <th>2</th>\n",
       "      <td>The Last Empress</td>\n",
       "      <td>https://www.viki.com/tv/36241c-the-last-empress</td>\n",
       "      <td>36241c</td>\n",
       "      <td>9.45</td>\n",
       "      <td>3858</td>\n",
       "    </tr>\n",
       "    <tr>\n",
       "      <th>3</th>\n",
       "      <td>Encounter</td>\n",
       "      <td>https://www.viki.com/tv/36239c-encounter</td>\n",
       "      <td>36239c</td>\n",
       "      <td>9.59</td>\n",
       "      <td>5436</td>\n",
       "    </tr>\n",
       "    <tr>\n",
       "      <th>4</th>\n",
       "      <td>My Strange Hero</td>\n",
       "      <td>https://www.viki.com/tv/36330c-my-strange-hero</td>\n",
       "      <td>36330c</td>\n",
       "      <td>9.56</td>\n",
       "      <td>2239</td>\n",
       "    </tr>\n",
       "  </tbody>\n",
       "</table>\n",
       "</div>"
      ],
      "text/plain": [
       "                  title                                                url  \\\n",
       "0  Thirty But Seventeen  https://www.viki.com/tv/36109c-thirty-but-seve...   \n",
       "1      Fates and Furies    https://www.viki.com/tv/36240c-fates-and-furies   \n",
       "2      The Last Empress    https://www.viki.com/tv/36241c-the-last-empress   \n",
       "3             Encounter           https://www.viki.com/tv/36239c-encounter   \n",
       "4       My Strange Hero     https://www.viki.com/tv/36330c-my-strange-hero   \n",
       "\n",
       "  container  rating  # ratings  \n",
       "0    36109c    9.58       7368  \n",
       "1    36240c    9.14       1401  \n",
       "2    36241c    9.45       3858  \n",
       "3    36239c    9.59       5436  \n",
       "4    36330c    9.56       2239  "
      ]
     },
     "execution_count": 2,
     "metadata": {},
     "output_type": "execute_result"
    }
   ],
   "source": [
    "shows = pd.read_csv('./data/k_titles.csv')\n",
    "shows.head()"
   ]
  },
  {
   "cell_type": "code",
   "execution_count": 3,
   "metadata": {},
   "outputs": [],
   "source": [
    "shows['s_title']=shows['title'].map(lambda x: x.replace(' ','_'))"
   ]
  },
  {
   "cell_type": "code",
   "execution_count": 4,
   "metadata": {},
   "outputs": [
    {
     "data": {
      "text/html": [
       "<div>\n",
       "<style scoped>\n",
       "    .dataframe tbody tr th:only-of-type {\n",
       "        vertical-align: middle;\n",
       "    }\n",
       "\n",
       "    .dataframe tbody tr th {\n",
       "        vertical-align: top;\n",
       "    }\n",
       "\n",
       "    .dataframe thead th {\n",
       "        text-align: right;\n",
       "    }\n",
       "</style>\n",
       "<table border=\"1\" class=\"dataframe\">\n",
       "  <thead>\n",
       "    <tr style=\"text-align: right;\">\n",
       "      <th></th>\n",
       "      <th>title</th>\n",
       "      <th>url</th>\n",
       "      <th>container</th>\n",
       "      <th>rating</th>\n",
       "      <th># ratings</th>\n",
       "      <th>s_title</th>\n",
       "    </tr>\n",
       "  </thead>\n",
       "  <tbody>\n",
       "    <tr>\n",
       "      <th>0</th>\n",
       "      <td>Thirty But Seventeen</td>\n",
       "      <td>https://www.viki.com/tv/36109c-thirty-but-seve...</td>\n",
       "      <td>36109c</td>\n",
       "      <td>9.58</td>\n",
       "      <td>7368</td>\n",
       "      <td>Thirty_But_Seventeen</td>\n",
       "    </tr>\n",
       "    <tr>\n",
       "      <th>1</th>\n",
       "      <td>Fates and Furies</td>\n",
       "      <td>https://www.viki.com/tv/36240c-fates-and-furies</td>\n",
       "      <td>36240c</td>\n",
       "      <td>9.14</td>\n",
       "      <td>1401</td>\n",
       "      <td>Fates_and_Furies</td>\n",
       "    </tr>\n",
       "    <tr>\n",
       "      <th>2</th>\n",
       "      <td>The Last Empress</td>\n",
       "      <td>https://www.viki.com/tv/36241c-the-last-empress</td>\n",
       "      <td>36241c</td>\n",
       "      <td>9.45</td>\n",
       "      <td>3858</td>\n",
       "      <td>The_Last_Empress</td>\n",
       "    </tr>\n",
       "    <tr>\n",
       "      <th>3</th>\n",
       "      <td>Encounter</td>\n",
       "      <td>https://www.viki.com/tv/36239c-encounter</td>\n",
       "      <td>36239c</td>\n",
       "      <td>9.59</td>\n",
       "      <td>5436</td>\n",
       "      <td>Encounter</td>\n",
       "    </tr>\n",
       "    <tr>\n",
       "      <th>4</th>\n",
       "      <td>My Strange Hero</td>\n",
       "      <td>https://www.viki.com/tv/36330c-my-strange-hero</td>\n",
       "      <td>36330c</td>\n",
       "      <td>9.56</td>\n",
       "      <td>2239</td>\n",
       "      <td>My_Strange_Hero</td>\n",
       "    </tr>\n",
       "  </tbody>\n",
       "</table>\n",
       "</div>"
      ],
      "text/plain": [
       "                  title                                                url  \\\n",
       "0  Thirty But Seventeen  https://www.viki.com/tv/36109c-thirty-but-seve...   \n",
       "1      Fates and Furies    https://www.viki.com/tv/36240c-fates-and-furies   \n",
       "2      The Last Empress    https://www.viki.com/tv/36241c-the-last-empress   \n",
       "3             Encounter           https://www.viki.com/tv/36239c-encounter   \n",
       "4       My Strange Hero     https://www.viki.com/tv/36330c-my-strange-hero   \n",
       "\n",
       "  container  rating  # ratings               s_title  \n",
       "0    36109c    9.58       7368  Thirty_But_Seventeen  \n",
       "1    36240c    9.14       1401      Fates_and_Furies  \n",
       "2    36241c    9.45       3858      The_Last_Empress  \n",
       "3    36239c    9.59       5436             Encounter  \n",
       "4    36330c    9.56       2239       My_Strange_Hero  "
      ]
     },
     "execution_count": 4,
     "metadata": {},
     "output_type": "execute_result"
    }
   ],
   "source": [
    "shows.head()"
   ]
  },
  {
   "cell_type": "code",
   "execution_count": 5,
   "metadata": {},
   "outputs": [],
   "source": [
    "s_info =[]"
   ]
  },
  {
   "cell_type": "code",
   "execution_count": 18,
   "metadata": {},
   "outputs": [],
   "source": [
    "url3='https://wiki.d-addicts.com/%s' %shows['s_title'][1] \n",
    "res = requests.get(url3, headers = {'User-agent': 'SB 2.0'})\n",
    "soup = BeautifulSoup(res.content, 'lxml')"
   ]
  },
  {
   "cell_type": "code",
   "execution_count": 34,
   "metadata": {},
   "outputs": [
    {
     "data": {
      "text/plain": [
       "[<ul>\n",
       " <li class=\"toclevel-1 tocsection-1\"><a href=\"#Details\"><span class=\"tocnumber\">1</span> <span class=\"toctext\">Details</span></a></li>\n",
       " <li class=\"toclevel-1 tocsection-2\"><a href=\"#Synopsis\"><span class=\"tocnumber\">2</span> <span class=\"toctext\">Synopsis</span></a></li>\n",
       " <li class=\"toclevel-1 tocsection-3\"><a href=\"#Cast\"><span class=\"tocnumber\">3</span> <span class=\"toctext\">Cast</span></a></li>\n",
       " <li class=\"toclevel-1 tocsection-4\"><a href=\"#Production_Credits\"><span class=\"tocnumber\">4</span> <span class=\"toctext\">Production Credits</span></a></li>\n",
       " <li class=\"toclevel-1 tocsection-5\"><a href=\"#Episode_Ratings\"><span class=\"tocnumber\">5</span> <span class=\"toctext\">Episode Ratings</span></a></li>\n",
       " <li class=\"toclevel-1 tocsection-6\"><a href=\"#Notes\"><span class=\"tocnumber\">6</span> <span class=\"toctext\">Notes</span></a></li>\n",
       " <li class=\"toclevel-1 tocsection-7\"><a href=\"#External_Links\"><span class=\"tocnumber\">7</span> <span class=\"toctext\">External Links</span></a></li>\n",
       " </ul>, <ul><li><b>Title:</b> 운명과 분노 / Unmyeonggwa Bunno</li>\n",
       " <li><b>Also known as:</b> Fate and Fury</li>\n",
       " <li><b>Genre:</b> Drama, romance</li>\n",
       " <li><b>Episodes:</b> 40</li>\n",
       " <li><b>Broadcast network:</b> SBS</li>\n",
       " <li><b>Broadcast period:</b> 2018-Dec-01 to 2019-???-??</li>\n",
       " <li><b>Air time:</b> <a href=\"/List_of_Dramas_aired_in_Korea_by_SBS#SBS_Saturday_.26_Sunday_Night_.28.7E8:45_PM.29\" title=\"List of Dramas aired in Korea by SBS\">Saturday 21:05</a> (4 episodes back-to-back)</li>\n",
       " <li><b>Original Soundtrack:</b> <a href=\"/Fates_and_Furies_OST\" title=\"Fates and Furies OST\">Fates and Furies OST</a></li></ul>, <ul><li><a href=\"/Joo_Sang_Wook\" title=\"Joo Sang Wook\">Joo Sang Wook</a> as Tae In Joon (36, Gold Shoes CEO)</li>\n",
       " <li><a href=\"/Lee_Min_Jung\" title=\"Lee Min Jung\">Lee Min Jung</a> as Goo Hae Ra (34)</li>\n",
       " <li><a href=\"/So_Yi_Hyun\" title=\"So Yi Hyun\">So Yi Hyun</a> as Cha Soo Hyun (35, Gold Announcer)</li>\n",
       " <li><a href=\"/Lee_Ki_Woo\" title=\"Lee Ki Woo\">Lee Ki Woo</a> as Jin Tae Oh (36)</li></ul>, <ul><li><a href=\"/Go_In_Bum\" title=\"Go In Bum\">Go In Bum</a> as Tae Pil Woon (67, In Joon's father) (Gold Group CEO)</li>\n",
       " <li><a href=\"/Song_Ok_Sook\" title=\"Song Ok Sook\">Song Ok Sook</a> as Han Sung Sook (60, In Joon's stepmother)</li>\n",
       " <li><a href=\"/Jung_Hwan\" title=\"Jung Hwan\">Jung Hwan</a> as Tae Jung Ho (38, In Joon's older half-brother) (Gold Construction CEO)</li>\n",
       " <li><a href=\"/Shim_Yi_Young\" title=\"Shim Yi Young\">Shim Yi Young</a> as Ko Ah Jung (37, Jung Ho's wife) (Min Woo's mother)</li>\n",
       " <li><a href=\"/Lizzy\" title=\"Lizzy\">Park Soo Ah</a> as Tae Jung Min (26, Tae Joon's younger sister)</li>\n",
       " <li><a href=\"/Jo_Seung_Yun\" title=\"Jo Seung Yun\">Jo Seung Yun</a> as Hyun Jung Soo (52, In Joon's uncle) (CEO's secretary)</li></ul>, <ul><li><a href=\"/Cha_Soo_Yun\" title=\"Cha Soo Yun\">Cha Soo Yun</a> as Goo Hyun Joo (35, Hae Ra's older sister)</li>\n",
       " <li><a href=\"/Jung_Soo_Young\" title=\"Jung Soo Young\">Jung Soo Young</a> as Kang Sun Young (34, Hae Ra's friend) (Luxury Store employee)</li>\n",
       " <li><a href=\"/Yoon_Hak\" title=\"Yoon Hak\">Yoon Hak</a> as Kang Eui Gun (20's, Sun Young's younger brother)</li>\n",
       " <li><a href=\"/Heo_Joon_Suk\" title=\"Heo Joon Suk\">Heo Joon Suk</a> as Kim Chang Soo (32)</li></ul>, <ul><li><a href=\"/Kwon_Tae_Won\" title=\"Kwon Tae Won\">Kwon Tae Won</a> as Cha Dong Kyu (60's, Soo Hyun's father)</li>\n",
       " <li><a class=\"new\" href=\"/index.php?title=Ha_Min&amp;action=edit&amp;redlink=1\" title=\"Ha Min (page does not exist)\">Ha Min</a> (하민) as Lee Eun Sook (60's, Soo Hyun's mother)</li></ul>, <ul><li><a href=\"/Kim_Dan_Woo\" title=\"Kim Dan Woo\">Kim Dan Woo</a> as Jennie Jin (Tae Oh and Soo Hyun's daughter)</li></ul>, <ul><li><a href=\"/Im_Ji_Kyu\" title=\"Im Ji Kyu\">Im Ji Kyu</a> as Assistant Kim</li>\n",
       " <li><a class=\"new\" href=\"/index.php?title=Han_Eun_Sun&amp;action=edit&amp;redlink=1\" title=\"Han Eun Sun (page does not exist)\">Han Eun Sun</a> (한은선) as Lee Hyun Jung (40's) (TH Jaehwa Group Team Leader)</li>\n",
       " <li><a class=\"new\" href=\"/index.php?title=Choi_Sang_Ah&amp;action=edit&amp;redlink=1\" title=\"Choi Sang Ah (page does not exist)\">Choi Sang Ah</a> (최상아) as Kang Mi Na</li>\n",
       " <li><a class=\"new\" href=\"/index.php?title=Jung_Soo_Hwan_(1994)&amp;action=edit&amp;redlink=1\" title=\"Jung Soo Hwan (1994) (page does not exist)\">Jung Soo Hwan</a> (정수환) as Yoon Ji Sung</li>\n",
       " <li><a class=\"new\" href=\"/index.php?title=Choi_Ha_Eun&amp;action=edit&amp;redlink=1\" title=\"Choi Ha Eun (page does not exist)\">Choi Ha Eun</a> (최하은) as Design staff</li></ul>, <ul><li><a class=\"new\" href=\"/index.php?title=Jo_Wan_Ki&amp;action=edit&amp;redlink=1\" title=\"Jo Wan Ki (page does not exist)\">Jo Wan Ki</a> (조완기) as Kim Seok Jin (36, Seongsudong CEO)</li>\n",
       " <li><a href=\"/Jun_Hyun_Ah\" title=\"Jun Hyun Ah\">Jun Hyun Ah</a> as Lee Jung Hye</li>\n",
       " <li><a class=\"new\" href=\"/index.php?title=Sung_Chang_Hoon&amp;action=edit&amp;redlink=1\" title=\"Sung Chang Hoon (page does not exist)\">Sung Chang Hoon</a> (성창훈)</li></ul>, <ul><li><b>Director:</b> <a href=\"/Jung_Dong_Yoon\" title=\"Jung Dong Yoon\">Jung Dong Yoon</a></li>\n",
       " <li><b>Screenwriters:</b> <a href=\"/Hong_Young_Hee\" title=\"Hong Young Hee\">Hong Young Hee</a>, <a class=\"new\" href=\"/index.php?title=Kang_Chul_Woong&amp;action=edit&amp;redlink=1\" title=\"Kang Chul Woong (page does not exist)\">Kang Chul Woong</a> (강철웅)</li></ul>, <ul><li>This is the second drama in which actors <a href=\"/Joo_Sang_Wook\" title=\"Joo Sang Wook\">Joo Sang Wook</a> and <a href=\"/Lee_Min_Jung\" title=\"Lee Min Jung\">Lee Min Jung</a> have worked together, the first being the drama <a href=\"/Cunning_Single_Lady\" title=\"Cunning Single Lady\">Cunning Single Lady</a>.</li></ul>, <ul><li><a class=\"external text\" href=\"https://programs.sbs.co.kr/drama/fatesandfuries\" rel=\"nofollow\">Official site</a></li>\n",
       " <li><a class=\"external text\" href=\"https://www.hancinema.net/korean_drama_Fates_and_Furies.php\" rel=\"nofollow\">HanCinema</a></li>\n",
       " <li><a class=\"extiw\" href=\"http://en.wikipedia.org/wiki/ko:%EC%9A%B4%EB%AA%85%EA%B3%BC_%EB%B6%84%EB%85%B8_(2018%EB%85%84_%EB%93%9C%EB%9D%BC%EB%A7%88)\" title=\"wikipedia:ko:운명과 분노 (2018년 드라마)\">Korean Wikipedia</a></li></ul>]"
      ]
     },
     "execution_count": 34,
     "metadata": {},
     "output_type": "execute_result"
    }
   ],
   "source": [
    "info = soup.find('div',{'class':'mw-parser-output'})\n",
    "table = info.find_all('ul')\n",
    "table"
   ]
  },
  {
   "cell_type": "code",
   "execution_count": 46,
   "metadata": {},
   "outputs": [
    {
     "data": {
      "text/plain": [
       "<ul><li><b>Director:</b> <a href=\"/Jung_Dong_Yoon\" title=\"Jung Dong Yoon\">Jung Dong Yoon</a></li>\n",
       "<li><b>Screenwriters:</b> <a href=\"/Hong_Young_Hee\" title=\"Hong Young Hee\">Hong Young Hee</a>, <a class=\"new\" href=\"/index.php?title=Kang_Chul_Woong&amp;action=edit&amp;redlink=1\" title=\"Kang Chul Woong (page does not exist)\">Kang Chul Woong</a> (강철웅)</li></ul>"
      ]
     },
     "execution_count": 46,
     "metadata": {},
     "output_type": "execute_result"
    }
   ],
   "source": [
    "content = {}\n",
    "content['title'] = shows['title'][1]\n",
    "content['genre'] = re.findall('Genre:\\s(.+)', table[1].text)\n",
    "content['network'] = re.findall('Broadcast network:\\s(.+)',table[1].text)[0]\n",
    "content['cast'] = re.findall('([A-z].*?)\\sas\\s', table[2].text)\n",
    "content['director'] = re.findall('Director:\\s(.+)', table[9].text)[0]\n",
    "content['screenwriter'] = re.findall('Screenwriters:\\s(.+)', table[9].text)[0]\n",
    "table[9]"
   ]
  },
  {
   "cell_type": "code",
   "execution_count": 22,
   "metadata": {},
   "outputs": [
    {
     "data": {
      "text/plain": [
       "{'title': 'Fates and Furies',\n",
       " 'genre': ['Drama, romance'],\n",
       " 'network': 'SBS',\n",
       " 'cast': ['Joo Sang Wook', 'Lee Min Jung', 'So Yi Hyun', 'Lee Ki Woo']}"
      ]
     },
     "execution_count": 22,
     "metadata": {},
     "output_type": "execute_result"
    }
   ],
   "source": [
    "content"
   ]
  },
  {
   "cell_type": "code",
   "execution_count": 16,
   "metadata": {},
   "outputs": [],
   "source": [
    "s_info.append(content)"
   ]
  },
  {
   "cell_type": "code",
   "execution_count": 17,
   "metadata": {},
   "outputs": [
    {
     "data": {
      "text/html": [
       "<div>\n",
       "<style scoped>\n",
       "    .dataframe tbody tr th:only-of-type {\n",
       "        vertical-align: middle;\n",
       "    }\n",
       "\n",
       "    .dataframe tbody tr th {\n",
       "        vertical-align: top;\n",
       "    }\n",
       "\n",
       "    .dataframe thead th {\n",
       "        text-align: right;\n",
       "    }\n",
       "</style>\n",
       "<table border=\"1\" class=\"dataframe\">\n",
       "  <thead>\n",
       "    <tr style=\"text-align: right;\">\n",
       "      <th></th>\n",
       "      <th>cast</th>\n",
       "      <th>director</th>\n",
       "      <th>genre</th>\n",
       "      <th>network</th>\n",
       "      <th>screenwriter</th>\n",
       "      <th>title</th>\n",
       "    </tr>\n",
       "  </thead>\n",
       "  <tbody>\n",
       "    <tr>\n",
       "      <th>0</th>\n",
       "      <td>[Shin Hye Sun, Lee Hyo Bi (이효비), Park Shi Eun,...</td>\n",
       "      <td>Jo Soo Won</td>\n",
       "      <td>[Romance]</td>\n",
       "      <td>SBS</td>\n",
       "      <td>Jo Sung Hee</td>\n",
       "      <td>Thirty But Seventeen</td>\n",
       "    </tr>\n",
       "  </tbody>\n",
       "</table>\n",
       "</div>"
      ],
      "text/plain": [
       "                                                cast    director      genre  \\\n",
       "0  [Shin Hye Sun, Lee Hyo Bi (이효비), Park Shi Eun,...  Jo Soo Won  [Romance]   \n",
       "\n",
       "  network screenwriter                 title  \n",
       "0     SBS  Jo Sung Hee  Thirty But Seventeen  "
      ]
     },
     "execution_count": 17,
     "metadata": {},
     "output_type": "execute_result"
    }
   ],
   "source": [
    "pd.DataFrame(s_info)"
   ]
  },
  {
   "cell_type": "code",
   "execution_count": null,
   "metadata": {},
   "outputs": [],
   "source": []
  }
 ],
 "metadata": {
  "kernelspec": {
   "display_name": "Python 3",
   "language": "python",
   "name": "python3"
  },
  "language_info": {
   "codemirror_mode": {
    "name": "ipython",
    "version": 3
   },
   "file_extension": ".py",
   "mimetype": "text/x-python",
   "name": "python",
   "nbconvert_exporter": "python",
   "pygments_lexer": "ipython3",
   "version": "3.6.6"
  }
 },
 "nbformat": 4,
 "nbformat_minor": 2
}
